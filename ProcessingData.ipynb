{
 "cells": [
  {
   "cell_type": "markdown",
   "metadata": {},
   "source": [
    "## Load packages"
   ]
  },
  {
   "cell_type": "code",
   "execution_count": 1,
   "metadata": {
    "pycharm": {
     "is_executing": false
    }
   },
   "outputs": [],
   "source": [
    "import env\n",
    "import spacy\n",
    "nlp = spacy.load('en_core_web_sm')\n",
    "from spacy import displacy\n",
    "import sqlite3\n",
    "import pandas as pd\n",
    "import matplotlib.pyplot as plt\n",
    "import numpy as np\n",
    "from operator import itemgetter\n",
    "import datetime as dt\n",
    "import matplotlib.dates as mdates\n",
    "import json"
   ]
  },
  {
   "cell_type": "markdown",
   "metadata": {},
   "source": [
    "## Conncet to database"
   ]
  },
  {
   "cell_type": "code",
   "execution_count": 2,
   "metadata": {
    "scrolled": true,
    "pycharm": {
     "is_executing": false
    }
   },
   "outputs": [
    {
     "data": {
      "text/plain": "                                                Titel  \\\nid                                                      \n1   China smartphone maker Vivo says to suspend al...   \n2   China row threatens to upstage league's return...   \n3   Chinese state media slams basketball's NBA in ...   \n4   NBA fans in China seek refund from Tencent as ...   \n5   Shanghai Sports Federation says NBA fan event ...   \n\n                                                 Body        Kategorie  \\\nid                                                                       \n1   Chinese smartphone maker Vivo said on Tuesday ...  Weltnachrichten   \n2   The NBA returned to Japan for the first time i...  Weltnachrichten   \n3   Chinese state media on Wednesday accused the N...  Top-Nachrichten   \n4   Some Chinese National Basketball Association (...  Top-Nachrichten   \n5   The Shanghai Sports Federation said on Wednesd...  Top-Nachrichten   \n\n                  Datum   Quelle  \nid                                \n1   2019-10-08 00:00:00  Reuters  \n2   2019-10-08 00:00:00  Reuters  \n3   2019-10-09 00:00:00  Reuters  \n4   2019-10-09 00:00:00  Reuters  \n5   2019-10-09 00:00:00  Reuters  ",
      "text/html": "<div>\n<style scoped>\n    .dataframe tbody tr th:only-of-type {\n        vertical-align: middle;\n    }\n\n    .dataframe tbody tr th {\n        vertical-align: top;\n    }\n\n    .dataframe thead th {\n        text-align: right;\n    }\n</style>\n<table border=\"1\" class=\"dataframe\">\n  <thead>\n    <tr style=\"text-align: right;\">\n      <th></th>\n      <th>Titel</th>\n      <th>Body</th>\n      <th>Kategorie</th>\n      <th>Datum</th>\n      <th>Quelle</th>\n    </tr>\n    <tr>\n      <th>id</th>\n      <th></th>\n      <th></th>\n      <th></th>\n      <th></th>\n      <th></th>\n    </tr>\n  </thead>\n  <tbody>\n    <tr>\n      <td>1</td>\n      <td>China smartphone maker Vivo says to suspend al...</td>\n      <td>Chinese smartphone maker Vivo said on Tuesday ...</td>\n      <td>Weltnachrichten</td>\n      <td>2019-10-08 00:00:00</td>\n      <td>Reuters</td>\n    </tr>\n    <tr>\n      <td>2</td>\n      <td>China row threatens to upstage league's return...</td>\n      <td>The NBA returned to Japan for the first time i...</td>\n      <td>Weltnachrichten</td>\n      <td>2019-10-08 00:00:00</td>\n      <td>Reuters</td>\n    </tr>\n    <tr>\n      <td>3</td>\n      <td>Chinese state media slams basketball's NBA in ...</td>\n      <td>Chinese state media on Wednesday accused the N...</td>\n      <td>Top-Nachrichten</td>\n      <td>2019-10-09 00:00:00</td>\n      <td>Reuters</td>\n    </tr>\n    <tr>\n      <td>4</td>\n      <td>NBA fans in China seek refund from Tencent as ...</td>\n      <td>Some Chinese National Basketball Association (...</td>\n      <td>Top-Nachrichten</td>\n      <td>2019-10-09 00:00:00</td>\n      <td>Reuters</td>\n    </tr>\n    <tr>\n      <td>5</td>\n      <td>Shanghai Sports Federation says NBA fan event ...</td>\n      <td>The Shanghai Sports Federation said on Wednesd...</td>\n      <td>Top-Nachrichten</td>\n      <td>2019-10-09 00:00:00</td>\n      <td>Reuters</td>\n    </tr>\n  </tbody>\n</table>\n</div>"
     },
     "metadata": {},
     "output_type": "execute_result",
     "execution_count": 2
    }
   ],
   "source": [
    "conn = sqlite3.connect(env.DB_URL)\n",
    "cur = conn.cursor()\n",
    "\n",
    "df = pd.read_sql(\"SELECT id,Titel,Body,Kategorie,Datum,Quelle FROM Artikel WHERE Quelle ='Reuters'\", conn, index_col=\"id\", parse_dates=True)\n",
    "df.shape\n",
    "df.head()"
   ]
  },
  {
   "cell_type": "code",
   "execution_count": 3,
   "metadata": {
    "pycharm": {
     "is_executing": false
    }
   },
   "outputs": [
    {
     "data": {
      "text/plain": "(235, 5)"
     },
     "metadata": {},
     "output_type": "execute_result",
     "execution_count": 3
    }
   ],
   "source": [
    "df.shape"
   ]
  },
  {
   "cell_type": "markdown",
   "metadata": {},
   "source": [
    "## Save as csv"
   ]
  },
  {
   "cell_type": "code",
   "execution_count": 4,
   "metadata": {
    "pycharm": {
     "is_executing": false
    }
   },
   "outputs": [],
   "source": [
    "df.to_csv(path_or_buf=\"./data/news_en.csv\", sep=',',encoding='utf-8')"
   ]
  },
  {
   "cell_type": "markdown",
   "metadata": {},
   "source": [
    "## Count articles per day"
   ]
  },
  {
   "cell_type": "code",
   "execution_count": 5,
   "metadata": {
    "pycharm": {
     "is_executing": false
    }
   },
   "outputs": [],
   "source": [
    "artikelliste={}\n",
    "\n",
    "for i in range(0, len(df)):\n",
    "    datum = df.iloc[i]['Datum']\n",
    "    datum = datum.split(\" \")[0]\n",
    "    \n",
    "    if datum in artikelliste:\n",
    "        artikelliste[datum] += 1\n",
    "    else:\n",
    "        artikelliste[datum] = 1\n",
    "            "
   ]
  },
  {
   "cell_type": "code",
   "execution_count": 6,
   "metadata": {
    "pycharm": {
     "is_executing": false
    }
   },
   "outputs": [
    {
     "name": "stderr",
     "text": [
      "/Users/andreas/.conda/envs/First/lib/python3.7/site-packages/pandas/plotting/_matplotlib/converter.py:103: FutureWarning: Using an implicitly registered datetime converter for a matplotlib plotting method. The converter was registered by pandas on import. Future versions of pandas will require you to explicitly register matplotlib converters.\n",
      "\n",
      "To register the converters:\n",
      "\t>>> from pandas.plotting import register_matplotlib_converters\n",
      "\t>>> register_matplotlib_converters()\n",
      "  warnings.warn(msg, FutureWarning)\n"
     ],
     "output_type": "stream"
    },
    {
     "data": {
      "text/plain": "<Figure size 432x288 with 1 Axes>",
      "image/png": "[encoded data removed]"
     },
     "metadata": {
      "needs_background": "light"
     },
     "output_type": "display_data"
    }
   ],
   "source": [
    "startdatum = \"2019-09-22\"\n",
    "enddatum = \"2019-10-10\"\n",
    "\n",
    "datelist = pd.date_range(start=startdatum, end=enddatum).tolist()\n",
    "datelist = pd.to_datetime((datelist))\n",
    "\n",
    "artikelliste0 =[]\n",
    "for date in datelist:\n",
    "    if str(date).split()[0] in artikelliste:\n",
    "        artikelliste0.append(artikelliste[str(date).split()[0]])\n",
    "    else:\n",
    "        artikelliste0.append(0)\n",
    "        \n",
    "tickslist = pd.date_range(start=startdatum, end=enddatum, freq='1D').tolist()\n",
    "\n",
    "plt.plot(datelist, artikelliste0, label=\"Article count\")\n",
    "plt.axis([startdatum, enddatum, 0, max(artikelliste0)])\n",
    "\n",
    "plt.gca().xaxis.set_major_formatter(mdates.DateFormatter('%d-%m-%Y'))\n",
    "plt.xlabel('Date')\n",
    "plt.xticks(tickslist)\n",
    "plt.ylabel('Count')\n",
    "plt.suptitle('Articles per day')\n",
    "plt.gcf().autofmt_xdate()\n",
    "plt.legend()\n",
    "plt.savefig('./images/anzahl_en.png', dpi=300)\n",
    "plt.show()"
   ]
  },
  {
   "cell_type": "markdown",
   "metadata": {},
   "source": [
    "## Mark persons and organizations"
   ]
  },
  {
   "cell_type": "code",
   "execution_count": 7,
   "metadata": {
    "pycharm": {
     "is_executing": false
    }
   },
   "outputs": [
    {
     "data": {
      "text/plain": "<IPython.core.display.HTML object>",
      "text/html": "<h2 style=\"margin: 0\">Persons in titel 0</h2>\n\n<div class=\"entities\" style=\"line-height: 2.5\">China smartphone maker Vivo says to suspend all cooperation with \n<mark class=\"entity\" style=\"background: red; padding: 0.45em 0.6em; margin: 0 0.25em; line-height: 1; border-radius: 0.35em; box-decoration-break: clone; -webkit-box-decoration-break: clone\">\n    NBA\n    <span style=\"font-size: 0.8em; font-weight: bold; line-height: 1; border-radius: 0.35em; text-transform: uppercase; vertical-align: middle; margin-left: 0.5rem\">ORG</span>\n</mark>\n</div>"
     },
     "metadata": {},
     "output_type": "display_data"
    },
    {
     "data": {
      "text/plain": "<IPython.core.display.HTML object>",
      "text/html": "<h2 style=\"margin: 0\">Persons in titel 1</h2>\n\n<div class=\"entities\" style=\"line-height: 2.5\">China row threatens to upstage league's return to Japan</div>"
     },
     "metadata": {},
     "output_type": "display_data"
    },
    {
     "data": {
      "text/plain": "<IPython.core.display.HTML object>",
      "text/html": "<h2 style=\"margin: 0\">Persons in titel 2</h2>\n\n<div class=\"entities\" style=\"line-height: 2.5\">Chinese state media slams basketball's \n<mark class=\"entity\" style=\"background: red; padding: 0.45em 0.6em; margin: 0 0.25em; line-height: 1; border-radius: 0.35em; box-decoration-break: clone; -webkit-box-decoration-break: clone\">\n    NBA\n    <span style=\"font-size: 0.8em; font-weight: bold; line-height: 1; border-radius: 0.35em; text-transform: uppercase; vertical-align: middle; margin-left: 0.5rem\">ORG</span>\n</mark>\n in free speech row</div>"
     },
     "metadata": {},
     "output_type": "display_data"
    },
    {
     "data": {
      "text/plain": "<IPython.core.display.HTML object>",
      "text/html": "<h2 style=\"margin: 0\">Persons in titel 3</h2>\n\n<div class=\"entities\" style=\"line-height: 2.5\">\n<mark class=\"entity\" style=\"background: red; padding: 0.45em 0.6em; margin: 0 0.25em; line-height: 1; border-radius: 0.35em; box-decoration-break: clone; -webkit-box-decoration-break: clone\">\n    NBA\n    <span style=\"font-size: 0.8em; font-weight: bold; line-height: 1; border-radius: 0.35em; text-transform: uppercase; vertical-align: middle; margin-left: 0.5rem\">ORG</span>\n</mark>\n fans in China seek refund from Tencent as streaming suspended</div>"
     },
     "metadata": {},
     "output_type": "display_data"
    },
    {
     "data": {
      "text/plain": "<IPython.core.display.HTML object>",
      "text/html": "<h2 style=\"margin: 0\">Persons in titel 4</h2>\n\n<div class=\"entities\" style=\"line-height: 2.5\">\n<mark class=\"entity\" style=\"background: red; padding: 0.45em 0.6em; margin: 0 0.25em; line-height: 1; border-radius: 0.35em; box-decoration-break: clone; -webkit-box-decoration-break: clone\">\n    Shanghai Sports Federation\n    <span style=\"font-size: 0.8em; font-weight: bold; line-height: 1; border-radius: 0.35em; text-transform: uppercase; vertical-align: middle; margin-left: 0.5rem\">ORG</span>\n</mark>\n says \n<mark class=\"entity\" style=\"background: red; padding: 0.45em 0.6em; margin: 0 0.25em; line-height: 1; border-radius: 0.35em; box-decoration-break: clone; -webkit-box-decoration-break: clone\">\n    NBA\n    <span style=\"font-size: 0.8em; font-weight: bold; line-height: 1; border-radius: 0.35em; text-transform: uppercase; vertical-align: middle; margin-left: 0.5rem\">ORG</span>\n</mark>\n fan event in city canceled</div>"
     },
     "metadata": {},
     "output_type": "display_data"
    },
    {
     "data": {
      "text/plain": "<IPython.core.display.HTML object>",
      "text/html": "<h2 style=\"margin: 0\">Persons in titel 5</h2>\n\n<div class=\"entities\" style=\"line-height: 2.5\">Factbox: Fans, U.S. politicians, others react to \n<mark class=\"entity\" style=\"background: red; padding: 0.45em 0.6em; margin: 0 0.25em; line-height: 1; border-radius: 0.35em; box-decoration-break: clone; -webkit-box-decoration-break: clone\">\n    NBA\n    <span style=\"font-size: 0.8em; font-weight: bold; line-height: 1; border-radius: 0.35em; text-transform: uppercase; vertical-align: middle; margin-left: 0.5rem\">ORG</span>\n</mark>\n's China controversy</div>"
     },
     "metadata": {},
     "output_type": "display_data"
    },
    {
     "data": {
      "text/plain": "<IPython.core.display.HTML object>",
      "text/html": "<h2 style=\"margin: 0\">Persons in titel 6</h2>\n\n<div class=\"entities\" style=\"line-height: 2.5\">China TV drops \n<mark class=\"entity\" style=\"background: red; padding: 0.45em 0.6em; margin: 0 0.25em; line-height: 1; border-radius: 0.35em; box-decoration-break: clone; -webkit-box-decoration-break: clone\">\n    NBA\n    <span style=\"font-size: 0.8em; font-weight: bold; line-height: 1; border-radius: 0.35em; text-transform: uppercase; vertical-align: middle; margin-left: 0.5rem\">ORG</span>\n</mark>\n exhibition games; league defends free speech</div>"
     },
     "metadata": {},
     "output_type": "display_data"
    },
    {
     "data": {
      "text/plain": "<IPython.core.display.HTML object>",
      "text/html": "<h2 style=\"margin: 0\">Persons in titel 7</h2>\n\n<div class=\"entities\" style=\"line-height: 2.5\">China's \n<mark class=\"entity\" style=\"background: red; padding: 0.45em 0.6em; margin: 0 0.25em; line-height: 1; border-radius: 0.35em; box-decoration-break: clone; -webkit-box-decoration-break: clone\">\n    ANTA\n    <span style=\"font-size: 0.8em; font-weight: bold; line-height: 1; border-radius: 0.35em; text-transform: uppercase; vertical-align: middle; margin-left: 0.5rem\">ORG</span>\n</mark>\n sports says it will immediately halt contract renewal negotiations \n<mark class=\"entity\" style=\"background: red; padding: 0.45em 0.6em; margin: 0 0.25em; line-height: 1; border-radius: 0.35em; box-decoration-break: clone; -webkit-box-decoration-break: clone\">\n    NBA\n    <span style=\"font-size: 0.8em; font-weight: bold; line-height: 1; border-radius: 0.35em; text-transform: uppercase; vertical-align: middle; margin-left: 0.5rem\">ORG</span>\n</mark>\n</div>"
     },
     "metadata": {},
     "output_type": "display_data"
    },
    {
     "data": {
      "text/plain": "<IPython.core.display.HTML object>",
      "text/html": "<h2 style=\"margin: 0\">Persons in titel 8</h2>\n\n<div class=\"entities\" style=\"line-height: 2.5\">\n<mark class=\"entity\" style=\"background: red; padding: 0.45em 0.6em; margin: 0 0.25em; line-height: 1; border-radius: 0.35em; box-decoration-break: clone; -webkit-box-decoration-break: clone\">\n    NBA\n    <span style=\"font-size: 0.8em; font-weight: bold; line-height: 1; border-radius: 0.35em; text-transform: uppercase; vertical-align: middle; margin-left: 0.5rem\">ORG</span>\n</mark>\n stirs U.S. hornet's nest, faces China backlash over Hong Kong tweet</div>"
     },
     "metadata": {},
     "output_type": "display_data"
    },
    {
     "data": {
      "text/plain": "<IPython.core.display.HTML object>",
      "text/html": "<h2 style=\"margin: 0\">Persons in titel 9</h2>\n\n<div class=\"entities\" style=\"line-height: 2.5\">Investors get lost in \n<mark class=\"entity\" style=\"background: red; padding: 0.45em 0.6em; margin: 0 0.25em; line-height: 1; border-radius: 0.35em; box-decoration-break: clone; -webkit-box-decoration-break: clone\">\n    Big Oil's\n    <span style=\"font-size: 0.8em; font-weight: bold; line-height: 1; border-radius: 0.35em; text-transform: uppercase; vertical-align: middle; margin-left: 0.5rem\">ORG</span>\n</mark>\n carbon accounting maze</div>"
     },
     "metadata": {},
     "output_type": "display_data"
    }
   ],
   "source": [
    "colors = {'ORG': 'red', 'PERSON':'yellow'}\n",
    "options = {'ents': ['ORG', 'PERSON'], 'colors': colors}\n",
    "for i in range(0, 10):\n",
    "    titel = df.iloc[i]['Titel']\n",
    "    body = df.iloc[i]['Body']\n",
    "    doc = nlp(titel)\n",
    "    doc.user_data['title'] = 'Persons in titel ' + str(i)\n",
    "    displacy.render(doc, style='ent', jupyter=True, options=options )"
   ]
  },
  {
   "cell_type": "code",
   "execution_count": 8,
   "metadata": {
    "pycharm": {
     "is_executing": false
    }
   },
   "outputs": [
    {
     "data": {
      "text/plain": "<IPython.core.display.HTML object>",
      "text/html": "<h2 style=\"margin: 0\">Persons in text 0</h2>\n\n<div class=\"entities\" style=\"line-height: 2.5\">Chinese smartphone maker Vivo said on Tuesday it will suspend all cooperation with the National Basketball Association (NBA), joining a series of Chinese firms cutting ties with the league following a tweet by a Houston Rockets executive supporting Hong Kong’s protesters.  Vivo, in a statement published on social media platform Weibo, said it is strongly dissatisfied with Rockets General Manager \n<mark class=\"entity\" style=\"background: red; padding: 0.45em 0.6em; margin: 0 0.25em; line-height: 1; border-radius: 0.35em; box-decoration-break: clone; -webkit-box-decoration-break: clone\">\n    Daryl Morey\n    <span style=\"font-size: 0.8em; font-weight: bold; line-height: 1; border-radius: 0.35em; text-transform: uppercase; vertical-align: middle; margin-left: 0.5rem\">PERSON</span>\n</mark>\n’s comments on Hong Kong and the NBA’s stance on the matter.  Vivo was a key sponsor for the upcoming exhibition games to be played in Shanghai and Shenzhen later this week by the Los Angeles Lakers and the Brooklyn Nets.  </div>"
     },
     "metadata": {},
     "output_type": "display_data"
    },
    {
     "data": {
      "text/plain": "<IPython.core.display.HTML object>",
      "text/html": "<h2 style=\"margin: 0\">Persons in text 1</h2>\n\n<div class=\"entities\" style=\"line-height: 2.5\">The NBA returned to Japan for the first time in 16 years on Tuesday, with pre season action between the Houston Rockets and the Toronto Raptors - but it was the league’s growing crisis in neighboring China that demanded much of the attention. NBA commissioner \n<mark class=\"entity\" style=\"background: red; padding: 0.45em 0.6em; margin: 0 0.25em; line-height: 1; border-radius: 0.35em; box-decoration-break: clone; -webkit-box-decoration-break: clone\">\n    Adam Silver\n    <span style=\"font-size: 0.8em; font-weight: bold; line-height: 1; border-radius: 0.35em; text-transform: uppercase; vertical-align: middle; margin-left: 0.5rem\">PERSON</span>\n</mark>\n opened a pre-game news conference talking about the future of basketball in Japan before being peppered with questions about the uproar over a tweet by the Rockets’ general manager in support of pro-democracy protests in Hong Kong. General manager \n<mark class=\"entity\" style=\"background: red; padding: 0.45em 0.6em; margin: 0 0.25em; line-height: 1; border-radius: 0.35em; box-decoration-break: clone; -webkit-box-decoration-break: clone\">\n    Daryl Morey\n    <span style=\"font-size: 0.8em; font-weight: bold; line-height: 1; border-radius: 0.35em; text-transform: uppercase; vertical-align: middle; margin-left: 0.5rem\">PERSON</span>\n</mark>\n apologised on Monday for any hurt caused by the tweet, which he deleted over the weekend after drawing swift condemnation from China’s government, fans and the team’s partners. But the damage was already done, with Houston losing sponsors and broadcasts in a key market for the National Basketball Association.  In the latest fallout, Chinese state television said on Tuesday it would not air NBA exhibition games played in the country this week. Silver said he had issued an additional statement on the China row on Tuesday in part because of CCTV’s announcement that it would no longer be airing the preseason games between the Los Angeles Lakers and the Brooklyn Nets. “It’s not something we expected to happen. It’s unfortunate,” Silver said of CCTV’s decision. “But if that’s the consequences of us adhering to our values, we still feel it’s critically important to adhere to those values,” he said, stressing the NBA’s commitment to freedom of expression for its employees. FILE PHOTO: People enter a flagship NBA store at the Wangfujing shopping street in Beijing, China October 8, 2019. REUTERS/\n<mark class=\"entity\" style=\"background: red; padding: 0.45em 0.6em; margin: 0 0.25em; line-height: 1; border-radius: 0.35em; box-decoration-break: clone; -webkit-box-decoration-break: clone\">\n    Tingshu WangSilver\n    <span style=\"font-size: 0.8em; font-weight: bold; line-height: 1; border-radius: 0.35em; text-transform: uppercase; vertical-align: middle; margin-left: 0.5rem\">PERSON</span>\n</mark>\n said he would travel to Shanghai as planned on Wednesday and attend the Lakers-Nets game on Thursday night. “It’s my hope when I’m in Shanghai, I can meet with the appropriate officials and discuss where we stand and can put those remarks from \n<mark class=\"entity\" style=\"background: red; padding: 0.45em 0.6em; margin: 0 0.25em; line-height: 1; border-radius: 0.35em; box-decoration-break: clone; -webkit-box-decoration-break: clone\">\n    Daryl Morey\n    <span style=\"font-size: 0.8em; font-weight: bold; line-height: 1; border-radius: 0.35em; text-transform: uppercase; vertical-align: middle; margin-left: 0.5rem\">PERSON</span>\n</mark>\n in an appropriate context,” he said. Rockets star \n<mark class=\"entity\" style=\"background: red; padding: 0.45em 0.6em; margin: 0 0.25em; line-height: 1; border-radius: 0.35em; box-decoration-break: clone; -webkit-box-decoration-break: clone\">\n    James Harden\n    <span style=\"font-size: 0.8em; font-weight: bold; line-height: 1; border-radius: 0.35em; text-transform: uppercase; vertical-align: middle; margin-left: 0.5rem\">PERSON</span>\n</mark>\n brushed off the situation. “It’s not a distraction. We’re focusing on our team and getting better. We have a great opportunity ahead of us and honestly we’re focused on every single day,” he told a post-game news conference. “Our sole focus is on the Rockets.” But Houston head coach \n<mark class=\"entity\" style=\"background: red; padding: 0.45em 0.6em; margin: 0 0.25em; line-height: 1; border-radius: 0.35em; box-decoration-break: clone; -webkit-box-decoration-break: clone\">\n    Mike D’Antoni\n    <span style=\"font-size: 0.8em; font-weight: bold; line-height: 1; border-radius: 0.35em; text-transform: uppercase; vertical-align: middle; margin-left: 0.5rem\">PERSON</span>\n</mark>\n had a much testier response for a reporter after the game, in which the \n<mark class=\"entity\" style=\"background: red; padding: 0.45em 0.6em; margin: 0 0.25em; line-height: 1; border-radius: 0.35em; box-decoration-break: clone; -webkit-box-decoration-break: clone\">\n    Raptors\n    <span style=\"font-size: 0.8em; font-weight: bold; line-height: 1; border-radius: 0.35em; text-transform: uppercase; vertical-align: middle; margin-left: 0.5rem\">PERSON</span>\n</mark>\n beat the Rockets 134-129. “I know you have your job to do and ask questions. I’m here to play basketball and coach basketball. That’s what we did tonight. And that’s what we will comment on,” he said. “And if we don’t have any more questions we’re good.” FILE PHOTO: Men walk past a poster at an NBA exhibition in Beijing, China October 8, 2019. REUTERS/\n<mark class=\"entity\" style=\"background: red; padding: 0.45em 0.6em; margin: 0 0.25em; line-height: 1; border-radius: 0.35em; box-decoration-break: clone; -webkit-box-decoration-break: clone\">\n    Jason LeeIn\n    <span style=\"font-size: 0.8em; font-weight: bold; line-height: 1; border-radius: 0.35em; text-transform: uppercase; vertical-align: middle; margin-left: 0.5rem\">PERSON</span>\n</mark>\n the United States, several lawmakers took to social media to side with the protesters in Hong Kong. “The people of Hong Kong have risked much more than money to defend their freedom of expression, human rights, and autonomy,” tweeted Senate Majority Leader \n<mark class=\"entity\" style=\"background: red; padding: 0.45em 0.6em; margin: 0 0.25em; line-height: 1; border-radius: 0.35em; box-decoration-break: clone; -webkit-box-decoration-break: clone\">\n    Mitch McConnell\n    <span style=\"font-size: 0.8em; font-weight: bold; line-height: 1; border-radius: 0.35em; text-transform: uppercase; vertical-align: middle; margin-left: 0.5rem\">PERSON</span>\n</mark>\n. “I hope the @NBA can learn from that courage and not abandon those values for the sake of their bottom line.” </div>"
     },
     "metadata": {},
     "output_type": "display_data"
    }
   ],
   "source": [
    "colors = { 'PERSON':'red'}\n",
    "options = {'ents': [ 'PERSON'], 'colors': colors}\n",
    "for i in range(0, 2):\n",
    "    body = df.iloc[i]['Body']\n",
    "    doc = nlp(body)\n",
    "    doc.user_data['title'] = 'Persons in text ' + str(i)\n",
    "    displacy.render(doc, style='ent', jupyter=True, options=options)"
   ]
  },
  {
   "cell_type": "markdown",
   "metadata": {},
   "source": [
    "## Build list of person counts"
   ]
  },
  {
   "cell_type": "code",
   "execution_count": 9,
   "metadata": {
    "pycharm": {
     "is_executing": false
    }
   },
   "outputs": [],
   "source": [
    "personenliste=dict()\n",
    "\n",
    "for i in range(0, len(df)):\n",
    "    body = df.iloc[i]['Body']\n",
    "    titel = df.iloc[i]['Titel']\n",
    "    doc = nlp(titel + \"\\n\" + body)\n",
    "    for ent in doc.ents:\n",
    "        if ent.label_ == 'PERSON':\n",
    "            if ent.text in personenliste:\n",
    "                personenliste[ent.text] += 1\n",
    "            else:\n",
    "                personenliste[ent.text] = 1"
   ]
  },
  {
   "cell_type": "code",
   "execution_count": 10,
   "metadata": {
    "pycharm": {
     "is_executing": false
    }
   },
   "outputs": [
    {
     "data": {
      "text/plain": "{'Daryl Morey': 16,\n 'Adam Silver': 10,\n 'Tingshu WangSilver': 1,\n 'James Harden': 3,\n 'Mike D’Antoni': 1,\n 'Raptors': 1,\n 'Jason LeeIn': 1,\n 'Mitch McConnell': 8,\n 'Verwandte ThemenChina': 4,\n 'Saitama': 1,\n 'Tencent': 2,\n 'WeChat': 2,\n 'Yao Ming': 4,\n 'Bobby Yip': 2,\n 'Ted Cruz': 4,\n 'Joshua RobertsHere': 1,\n 'Rick Scott': 1,\n 'Ben Sasse': 3,\n 'Daryl': 2,\n '” - Joseph Tsai': 1,\n 'Tom Malinowski': 2,\n '” - Julian Castro': 1,\n 'Hu Xijin': 2,\n 'Josh Hawley': 2,\n 'Li-Ning': 2,\n 'Marco Rubio': 2,\n 'Chuck Schumer': 2,\n 'Yao': 4,\n 'Rick Welts': 1,\n 'Jonathan Oatis': 1,\n 'Klay Thompson': 2,\n 'Gordon Hayward': 1,\n 'Verwandte ThemenChina row': 1,\n 'Joseph Tsai': 4,\n 'Geng Shuang': 2,\n 'Geng': 2,\n 'Houston Rockets - Pre': 1,\n 'Thomas PeterSeveral Chinese': 1,\n 'Evan Li': 1,\n 'Donald Trump': 128,\n 'REPAIR’ Morey’s': 1,\n 'Mark Tatum': 2,\n 'Tingshu': 1,\n 'Zara': 1,\n 'ITX.MC': 1,\n 'Nick Stansbury': 1,\n 'Bob Dudley': 1,\n 'Brian Gilvary': 1,\n '” Francis Condon': 1,\n 'Condon': 1,\n 'Vigeo Eiris': 1,\n 'Carbon Delta': 1,\n 'Engaged Tracking': 2,\n 'Scope': 4,\n 'Scope 1': 1,\n 'Scope 3': 1,\n 'Constantine Pretenteris': 1,\n 'Ben van Beurden': 1,\n 'Mark Lewis': 1,\n 'Lewis': 1,\n '\\nMontgomery': 1,\n 'Steven Reed': 1,\n 'David Woods': 1,\n 'Reed': 1,\n 'Rosa Parks': 1,\n 'Martin Luther King': 1,\n 'Jr.': 1,\n 'Joe Biden': 60,\n 'Biden': 87,\n 'Elizabeth Warren': 11,\n 'Bernie Sanders': 15,\n 'Volodymyr Zelenskiy': 27,\n 'Trump': 78,\n 'Elaine Kamarck': 1,\n 'Nancy Pelosi': 19,\n 'Pelosi': 10,\n 'Moneque Jarmon': 1,\n 'Kevin Lamarque“The': 1,\n 'Jarmon': 1,\n 'Pat Cipolline': 1,\n 'Marie Yovanovitch': 8,\n 'Andrew Jackson': 1,\n 'Edwin Meese': 2,\n 'RELATIONS RAW Relations': 1,\n 'Hunter Biden': 23,\n 'Bidens': 13,\n 'PM Johnson': 2,\n 'Angela Merkel': 10,\n 'Johnson': 46,\n 'Merkel': 2,\n 'Norbert Roettgen': 1,\n 'Verwandte ThemenVery': 1,\n 'Boris Johnson': 29,\n 'Tusk': 4,\n 'David Sassoli': 4,\n 'Michel': 1,\n 'Sassoli': 4,\n 'Leo Varadkar': 2,\n 'Aaron Chown': 1,\n 'GAME': 1,\n 'David Frost': 3,\n 'Arlene Foster': 1,\n 'Thomas Peter/File': 1,\n 'Jerome Powell': 4,\n 'Kiyoshi Ishigane': 1,\n '002475.SZ': 1,\n 'Uighur Muslims': 2,\n 'Bloomberg': 3,\n 'D3': 1,\n 'Powell': 6,\n 'Erin Scott': 1,\n 'Pat Cipollone': 2,\n 'Andrew Johnson': 2,\n 'Richard Nixon': 4,\n 'Bill Clinton': 7,\n 'Michael Avenatti': 3,\n 'Brendan McDermidU.S. District': 1,\n 'Deborah Batts': 1,\n 'Daniels': 4,\n 'Dean Steward': 1,\n 'Brendan Pierson': 2,\n 'Nicolas Maduro': 1,\n 'Santana de Parnaiba': 1,\n 'Paulo WhitakerPresident': 1,\n 'Robert Menendez': 1,\n 'Steven Mnuchin': 6,\n 'Mnuchin': 1,\n 'Diosdado Cabello': 1,\n 'Joesley': 1,\n 'Nicky Morgan': 1,\n 'Julian Smith': 1,\n 'Robert Buckland': 1,\n 'Matt Hancock': 1,\n 'Geoffrey Cox': 1,\n 'Tamar Sarkissian': 1,\n 'Steve Gorman': 1,\n 'Jim Christie': 1,\n 'Bowling Green': 1,\n 'Bryan Woolston': 1,\n 'Terry Dittes': 1,\n 'Adel Abdul Mahdi': 4,\n 'Abdul Madhi': 1,\n 'Mike Pompeo': 21,\n 'Abdul Mahdi': 5,\n 'Verwandte ThemenRescue': 1,\n 'Barr': 27,\n 'William Barr': 14,\n 'Robert Mueller': 7,\n 'John Durham': 3,\n 'Durham': 10,\n 'George Papadopoulos': 2,\n 'Hillary Clinton': 5,\n 'Carter Page': 2,\n 'Papadopoulos': 3,\n 'Page': 2,\n 'THE FOCUS OF THE INVESTIGATION?': 1,\n 'Joseph Mifsud': 2,\n 'Clinton': 12,\n 'Matteo Renzi': 1,\n 'Renzi': 1,\n 'Leah MillisBarr': 1,\n 'James A. Baker': 1,\n 'John Brennan': 1,\n 'Peter Strzok': 1,\n 'David Laufman': 1,\n 'Shawn Turner': 1,\n 'Clapper': 1,\n 'Christopher Steele': 1,\n 'Michael Horowitz': 1,\n 'Jeff Sessions': 1,\n 'John Huber': 1,\n 'Huber': 1,\n 'Horowitz': 1,\n 'J&J': 1,\n 'Nicholas Murray': 1,\n 'Murray': 4,\n 'Tom Kline': 1,\n 'Jason Itkin': 1,\n 'Janssen': 1,\n 'Risperdal': 2,\n 'Carl Tobias': 1,\n 'Tobias': 2,\n 'Nate Raymond': 1,\n 'Bill Berkrot': 1,\n 'Cynthia Osterman': 1,\n 'Wealthy': 1,\n 'Marcia Abbott': 2,\n 'Gregory Abbott': 1,\n 'Brian Snyder': 2,\n 'Indira Talwani': 1,\n 'William “Rick” Singer': 1,\n 'clients’': 2,\n 'Felicity Huffman': 1,\n 'Lori Loughlin': 1,\n 'Huffman': 1,\n 'Loughlin': 1,\n 'Mark Riddell': 1,\n 'Marcia Abbott’s': 1,\n 'Chen Quanguo': 1,\n 'Tom Cotton': 1,\n 'Zhejiang Dahua Technology': 1,\n 'Richard Burr': 2,\n 'Jonathan ErnstThe': 2,\n 'Mark Warner': 1,\n 'Burr': 1,\n 'Rudolph Giuliani': 4,\n 'Devin Nunes': 1,\n 'Jill Stein': 1,\n 'Lindsay Graham': 1,\n 'Giuliani': 46,\n 'Max': 1,\n 'Lindsey Wasson': 1,\n 'Steve Dickson': 1,\n 'Camille Biros': 1,\n 'Jeffrey Epstein': 3,\n 'Jennifer Araoz': 1,\n 'Epstein': 16,\n 'Daniel Kaiser': 1,\n 'Ghislaine Maxwell': 1,\n 'Lesley Groff': 1,\n 'Cimberly Espinosa': 1,\n 'Rosalyn Fontanilla': 1,\n 'Fontanilla': 1,\n 'Robert Maxwell': 1,\n 'Groff': 1,\n 'Michael Bachner': 1,\n 'Espinosa': 1,\n 'Andrew': 1,\n 'Gerald Bostock': 3,\n 'Aimee Stephens': 3,\n 'Mary F. CalvertBostock': 2,\n 'Stephens': 5,\n 'LaLa Zannell': 2,\n 'Zannell': 2,\n 'Ashlee Marie Preston': 2,\n 'Donald Zarda': 3,\n 'Laverne Cox': 2,\n 'Emmy': 2,\n 'Netflix': 2,\n 'Sharen Sonntag': 2,\n 'Jacob Phelps': 2,\n 'Jesus': 2,\n 'Mary F. CalvertMore': 1,\n 'Preston Allen': 2,\n 'Allen': 2,\n 'OxyContin': 2,\n 'George Frey': 1,\n 'Mark Brnovich': 1,\n 'Purdue': 3,\n 'Robert Drain': 1,\n 'Maura Healey': 1,\n 'Neil Gorsuch': 1,\n 'Verwandte ThemenFor LGBT': 1,\n 'Sonia Sotomayor': 1,\n 'John Roberts': 4,\n 'Samuel Alito': 2,\n 'Brett Kavanaugh': 2,\n 'Clarence Thomas': 3,\n 'Jonathan ErnstThe Trump': 1,\n 'Anthony Kennedy': 2,\n 'Kavanaugh': 2,\n 'Noel Francisco': 1,\n 'Elena Kagan': 1,\n 'Kagan': 1,\n 'Gordon Sondland': 8,\n 'NAKED': 1,\n 'Frank Bowman': 1,\n 'Bowman': 1,\n 'Jean-Claude Juncker': 1,\n 'Jared Kushner': 1,\n 'Francois LenoirOn': 1,\n 'Rick Tyler': 1,\n 'Yovanovitch': 4,\n 'Jonathan Ernst': 2,\n 'Vladimir Putin': 5,\n 'Gerard Araud': 1,\n 'Emmanuel Macron': 3,\n 'Araud': 2,\n 'Malcolm Turnbull': 1,\n 'Turnbull': 1,\n 'Robert Mueller’s': 3,\n 'Scott Morrison': 3,\n 'Jonathan Eyal': 1,\n 'Zelenskiy': 2,\n 'Macron': 2,\n 'Kim Darroch': 1,\n 'Jim Bourg': 1,\n 'Darroch': 1,\n 'Twitter': 10,\n 'Peter Westmacott': 1,\n 'Giffords': 5,\n 'Steve Marcus': 2,\n 'Pell Grants': 1,\n 'Warren': 9,\n 'Kamala Harris': 8,\n 'Hunter': 25,\n 'Perry': 8,\n 'Jessica Maxwell': 1,\n 'Masha Yovanovitch': 2,\n 'Yuri GripasSondland': 1,\n 'John Dowd': 1,\n 'Kim Kardashian': 3,\n 'Greta Thunberg': 2,\n 'Yerevan': 2,\n 'Vahram Baghdasaryan': 1,\n 'North': 1,\n 'Harry': 1,\n 'Meghan': 1,\n 'Tayyip Erdogan': 9,\n 'Erdogan': 17,\n 'Mark Esper': 4,\n 'Mark Milley': 4,\n 'Milley': 2,\n \"Verwandte ThemenErdogan's\": 1,\n 'Esper': 1,\n 'Jonathan Hoffman': 4,\n 'Antonio Guterres': 2,\n 'Tel Abyad': 2,\n 'Kobani': 1,\n 'Artillery': 1,\n 'Meral Aksener': 1,\n 'Threatening Turkey’s': 1,\n 'Mustafa Bali': 1,\n 'Kevin LamarqueRussia': 1,\n 'Bashar al-Assad': 6,\n 'Fahrettin Altun': 1,\n 'Tammy Abraham': 2,\n 'Chelsea': 1,\n 'Pascal RossignolEngland': 1,\n 'Abraham': 2,\n 'Harry Kane': 1,\n 'Gareth Southgate': 1,\n 'Fikayo Tomori': 1,\n 'Liu He': 6,\n 'Robert Lighthizer': 5,\n 'Kristalina Georgieva': 2,\n 'Mark Schiefelbein': 1,\n '” Hu Xijin': 1,\n 'Xi Jinping': 5,\n 'G20': 1,\n 'Kevin Lamarque': 2,\n 'Anne Sacoolas': 1,\n 'Harry Dunn': 3,\n 'Verwandte': 5,\n 'Raab': 2,\n 'Nick Adderley': 1,\n 'Henry Nicholls': 2,\n 'Charlotte Charles': 1,\n 'Dominic Raab': 2,\n 'Pompeo': 1,\n 'Volodymyr Zelensky': 1,\n 'Lucas JacksonGold': 1,\n 'John Zaller': 1,\n 'Giovanni Staunovo': 1,\n 'Keith Lerner': 1,\n 'Willie Delwiche': 1,\n 'Baird': 1,\n 'Brendan': 1,\n 'Giuliani\\n': 1,\n 'Rudy Giuliani': 10,\n 'Lindsey Graham': 7,\n 'Viktor Shokin': 2,\n 'Graham': 6,\n 'Cory Booker': 3,\n 'Amy Klobuchar': 4,\n 'Dianne Feinstein': 1,\n 'Tom Steyer': 1,\n 'Cory Gardner': 1,\n 'Joni Ernst': 1,\n 'Representatives Pete King': 1,\n 'Brian Fitzpatrick': 1,\n 'Kevin Mack': 1,\n 'John Katko': 1,\n 'Lee Zeldin': 1,\n 'Rodney Davis': 1,\n 'Don Bacon': 1,\n 'Jaime Herrera Beutler': 1,\n 'Scott Perry': 1,\n 'Michael McCaul': 2,\n 'Chip Roy': 1,\n 'Bill Clinton’s': 1,\n 'Katie Vincentz': 1,\n 'Zeldin': 1,\n 'Laura Edelson': 1,\n 'Jarrett Renshaw': 1,\n 'Michel Barnier': 2,\n 'Simon Coveney': 3,\n 'Sassoli UK': 1,\n '” Trey Parker': 1,\n 'Matt Stone': 1,\n 'Comedy Central': 1,\n 'Youku Tudou': 2,\n 'Comedy Central’s': 1,\n 'Randy Marsh': 1,\n 'Bill Burns': 1,\n 'Burns': 2,\n 'Described': 1,\n 'Zelinskiy': 2,\n 'Rex Tillerson': 1,\n 'Louise Yovanovitch': 1,\n 'Richard Armitage': 1,\n 'George W. Bush': 3,\n 'Donald J. Trump': 1,\n 'Buttigieg': 6,\n 'Pete Buttigieg': 7,\n 'Steve MarcusButtigieg': 1,\n '”\\xa0 ': 1,\n 'Buckle': 1,\n 'John Bolton': 1,\n 'Jim Mattis': 1,\n 'Brett McGurk': 1,\n 'Fred Hof': 1,\n 'Carter': 4,\n 'Jimmy Carter': 2,\n 'Neil HallThe': 1,\n 'Barack Obama': 9,\n 'Ibrahim Kalin': 1,\n 'Fuat Oktay': 1,\n 'Mardin Cimento': 1,\n 'Adana Cimento': 1,\n 'Chris Rupkey': 1,\n 'Ryan Sweet': 1,\n 'Tim Aeppel': 1,\n 'Daniel Silver': 1,\n 'James Peebles': 2,\n 'Michel Mayor': 2,\n 'Didier Queloz': 2,\n 'Queloz': 2,\n 'Martin Rees': 1,\n 'Goran K Hansson': 1,\n 'Mats Larsson': 1,\n 'Ulf Danielsson': 1,\n 'Claudio Bresciani': 1,\n 'William Kaelin': 2,\n 'Gregg Semenza': 2,\n 'Peter Ratcliffe': 2,\n 'Alfred Nobel': 2,\n 'Albert Einstein': 1,\n 'Marie Curie': 1,\n 'Niels Bohr': 1,\n 'Guglielmo Marconi': 1,\n 'Niklas Pollard': 1,\n 'Simon Johnson': 1,\n 'Anna Ringstrom': 1,\n 'Johannes Hellstrom': 1,\n 'Johan Ahlander': 1,\n 'Colm Fulton': 1,\n 'Kate Kelland': 1,\n 'Adidas': 2,\n 'DE': 1,\n 'Tomra': 1,\n 'Brendan McDermid': 2,\n 'Sumana Manohar': 1,\n 'Adidas vs Tomra': 1,\n 'Named': 1,\n 'Andrew Morlet': 1,\n 'Edouard Philippe': 1,\n 'Philippe': 1,\n 'Shiyaa al-Bahadli': 1,\n 'Moqtada al-Sadr': 3,\n 'Sadr': 1,\n '” Abdul Amir al-Taiban': 1,\n 'Toby Dodge': 1,\n 'Falih al-Fayyadh': 1,\n 'Donald Tusk': 4,\n 'Adam Schiff': 11,\n 'Stephanie Grisham': 3,\n 'Mike Pence': 1,\n 'Schiff': 22,\n 'Engel': 5,\n 'Pence': 3,\n 'Raja Krishnamoorthi': 1,\n 'Krishnamoorthi': 1,\n 'Michael Atkinson': 2,\n 'Yuri GripasThe': 2,\n 'Kurt Volker': 7,\n 'Mitt Romney': 6,\n '         ': 1,\n 'Nikos Dendias': 1,\n 'game’': 1,\n 'Margrethe Vestager': 1,\n 'Francois LenoirVestager': 1,\n 'Makoto Uchida': 2,\n 'Ashwani Gupta': 2,\n 'Carlos Ghosn': 1,\n 'Hiroto Saikawa': 1,\n 'Masakazu Toyoda': 1,\n 'Speedy': 1,\n 'Uchida': 1,\n 'Phil Noble': 1,\n 'Jun Seki': 1,\n 'Nissho Iwai': 1,\n 'Chuang Chuang': 6,\n 'Lin Hui': 7,\n \"Chuang Chuang's\": 1,\n 'Chuang Chuang - who': 1,\n 'Chuang Chuang’s': 2,\n 'Richard Prager': 1,\n 'Lucas Jackson': 1,\n 'Vanguard': 7,\n 'Russell 3000': 1,\n 'Dorothy Lund': 1,\n 'Lund': 2,\n 'Glenn Booraem': 2,\n 'Michelle Edkins': 1,\n 'Jacob Williams': 1,\n 'Tim Brennan': 1,\n 'Simiso Nzima': 1,\n 'Verwandte ThemenBiggest': 1,\n 'Jack Bogle': 1,\n 'Bogle': 2,\n 'Lucian Bebchuk': 1,\n 'funds’': 1,\n 'Ron Gilson': 1,\n 'Geisha Williams - to': 1,\n 'Lambertus Becht': 1,\n 'Becht': 2,\n 'Clovis': 1,\n 'Rob Roy': 1,\n 'Switch': 1,\n 'Roy': 2,\n 'Hunter Harrison': 1,\n 'Harrison': 2,\n 'John Fishwick Jr.': 1,\n 'Coveney': 2,\n 'Andrew KellyAt': 1,\n 'Jaison Abel': 1,\n 'Richard Deitz': 1,\n 'Nick Bunker': 1,\n 'Josh Bivens': 1,\n 'Bivens': 2,\n 'Kennedy': 1,\n 'Kathaleen Pittman': 1,\n 'Nancy Northup': 1,\n 'Jeff Landry': 1,\n 'Erin Schaff': 1,\n 'Jeanne Mancini': 1,\n 'Larry Edwards': 1,\n 'Berry Cave': 1,\n 'Elizabeth Warren’s': 1,\n 'Kristen Orthman': 1,\n 'Richard McDaniel': 1,\n 'Gove\\n': 1,\n 'Michael Gove': 2,\n 'Lam': 12,\n 'Carrie Lam': 3,\n 'Rioters’': 1,\n 'Kwok Yam-yung': 1,\n 'Chris Patten': 2,\n 'Shoemaker Vans': 1,\n 'Jason LeeGlobal': 1,\n 'Nathan Strauss': 1,\n 'Strauss': 1,\n 'Naomiso': 2,\n 'Slideshow': 7,\n 'Hearthstone': 1,\n 'Sergei Lavrov': 1,\n 'Dmitry Peskov': 2,\n \"Joe Biden's\": 1,\n 'Beau': 1,\n 'Beau Biden': 1,\n 'Hunter Biden’s': 5,\n 'Verwandte ThemenExplainer': 1,\n \"Hunter Biden's\": 1,\n 'Dad': 1,\n 'Mom': 1,\n 'Andrew Murrison': 1,\n 'Murrison': 2,\n 'Rob Berridge': 1,\n 'Ceres': 5,\n 'companies’': 1,\n 'Tim Smith': 1,\n 'Franklin Templeton': 1,\n 'Larry Fink': 1,\n 'Eric Henry': 1,\n 'AB.N': 1,\n 'Jonathan BachmanBlackrock': 1,\n 'Charles Li': 2,\n 'Verwandte ThemenTimeline': 1,\n 'SLIM CHANCE': 1,\n 'HKEK': 1,\n 'Hao Hong': 1,\n 'Li': 1,\n 'Chi Man Wong': 1,\n '\\nJulian Smith': 1,\n 'Smith': 1,\n '7211.T': 1,\n 'Ocasio-Cortez': 5,\n 'Alexandria Ocasio-Cortez': 2,\n 'Zuckerberg': 4,\n 'Libra': 3,\n 'Sheryl Sandberg': 1,\n 'Mark Zuckerberg': 4,\n 'Jeffrey Bader': 1,\n 'Wang Yi': 2,\n 'Victor Shih': 1,\n '” Shih': 1,\n 'Nixon': 2,\n 'Bonnie Glaser': 1,\n 'Evan Medeiros': 1,\n 'Jan Strupczewski': 2,\n 'Mina Andreeva': 1,\n 'Andreeva': 1,\n '” Arlene Foster': 1,\n 'Frost': 1,\n 'Keir Starmer': 1,\n 'Javelin': 3,\n 'Kevin': 1,\n 'Seema Verma': 1,\n 'Laura Kuenssberg': 2,\n 'Merkel UK': 1,\n 'Ankara': 1,\n 'Babak Dehghanpisheh': 1,\n 'Northern Irish DUP': 1,\n 'Nigel Dodds': 1,\n 'Bloomberg Television': 1,\n 'Verwandte ThemenLondon': 1,\n 'Lizzy': 1,\n 'Christian MangPolice': 1,\n 'Christiaan': 1,\n 'Benjamin': 1,\n 'Francoise Loiseau': 1,\n 'Larry Kudlow': 4,\n 'Zhong Shan': 2,\n 'Yi Gang': 2,\n 'Ning Jizhe': 2,\n 'Kazakhs': 1,\n 'Aly SongMeanwhile': 1,\n 'Jeff Mason': 2,\n 'Verwandte ThemenBiden': 2,\n \"me'Temperamental Trump\": 1,\n 'Elijah Cummings': 1,\n 'Sauli Niinisto': 4,\n 'Special Counsel Robert Mueller': 3,\n 'Eliot Engel': 5,\n 'Volker': 8,\n 'Kevin Lamarque“It': 1,\n 'Macquarie': 2,\n 'JD.O': 1,\n 'Premier Liu': 1,\n 'Liu': 1,\n 'Andrew Murray': 1,\n 'Thomas Perlmann': 2,\n 'William G. Kaelin Jr': 1,\n 'Peter J. Ratcliffe': 1,\n 'Gregg L. Semenza': 1,\n 'Pontus Lundahl': 1,\n '\\xa0': 4,\n 'Venki Ramakrishnan': 1,\n 'Randall Johnson': 1,\n 'Alexander Fleming': 1,\n 'Karl Landsteiner': 1,\n 'Kaelin': 1,\n 'Perlmann': 1,\n 'James Allison': 1,\n 'Tasuku Honjo': 1,\n 'Rick Perry': 2,\n 'Andrius': 2,\n 'PM Trudeau': 1,\n 'Justin Trudeau': 3,\n 'Andrew Scheer’s': 1,\n 'Trudeau': 12,\n 'Scheer': 7,\n 'Andrew Scheer': 2,\n 'Justin Tang': 1,\n '     ': 1,\n 'Andrew Goedl/Handout': 1,\n 'Endless Wars': 1,\n 'McConnell': 6,\n 'Raqqa': 1,\n 'Deir al-Zor': 1,\n 'Ras al-Ain': 1,\n 'Ozgur Unluhisarcikli': 1,\n 'ASSAD': 1,\n 'Juan Antonio': 1,\n 'Juan Orlando Hernandez': 3,\n 'Jason Richman': 1,\n 'Joaquin “El Chapo” Guzman': 1,\n 'Tony Hernandez': 4,\n 'Omar Malone': 1,\n 'Amilcar Hernandez': 1,\n 'Juan Antonio Hernandez': 1,\n 'Hernandez': 2,\n 'Yani Rosenthal': 1,\n 'Yankel Rosenthal': 1,\n 'Steve MarcusNine': 1,\n 'Booker': 1,\n 'Beto O’Rourke': 1,\n 'Andrew Yang': 1,\n 'Jeff Weaver': 1,\n 'Sanders': 1,\n 'Verwandte ThemenFactbox': 1,\n 'Brian SnyderCOMMON': 1,\n 'Steven Nissen': 1,\n 'Nissen': 1,\n 'Bar Mitzvah': 1,\n 'Ashraf Ghani': 1,\n 'Abdullah Abdullah': 1,\n 'Ghani': 4,\n 'Colin Cookman': 1,\n 'Petr Stepanek': 1,\n 'Stepanek': 1,\n 'Abdullah': 8,\n 'Daoud Sultanzoy': 1,\n 'Sultanzoy': 1,\n 'Mujib Rahman Rahimi': 1,\n 'Rahimi': 1,\n 'no’': 1,\n 'Zabihullah Mujahid': 1,\n 'Hong Kongers': 2,\n 'James': 2,\n 'Mong Kok': 2,\n 'Patten': 1,\n 'RESTRICTIONS': 1,\n 'Kevin Lamarqueranchers': 1,\n 'Butter': 1,\n 'Shinzo Abe': 1,\n 'Matthew Goodman': 1,\n 'Abe': 2,\n 'Verwandte ThemenU.S.-': 1,\n 'Tim Johnson': 1,\n 'Barley': 2,\n 'Stephen Lam': 1,\n 'Letitia James': 2,\n 'Jeffrey Rosen': 1,\n 'Makan Delrahim': 1,\n 'Doug Peterson': 1,\n 'Ashley Moody': 1,\n 'Josh Stein': 1,\n 'Tom Miller': 1,\n \"Soccer Football - Women's\": 1,\n 'Soccer': 2,\n 'Carlos Cordeiro': 1,\n 'Megan Rapinoe': 1,\n 'Alex Morgan': 1,\n 'Nazir Ahmad': 1,\n 'Malik': 7,\n 'Proving': 1,\n 'Sanjay Dhar': 1,\n 'Haseena Malik': 1,\n 'Agra\\xa0': 1,\n 'Mohammed': 1,\n 'Ronga \\xa0': 1,\n 'Umair Ronga': 1,\n '\\xa0Mirwaiz Umar Farooq': 1,\n 'Erin ScottWithout': 1,\n 'Giuseppe Conte': 1,\n 'Gennaro Vecchione': 1,\n 'Conte': 2,\n 'Alexander Downer': 1,\n 'Rudy Giuliani’s': 1,\n 'Jon Sale': 2,\n 'Michael Stern': 1,\n 'Steve Linick': 2,\n 'Verwandte ThemenAustralia PM': 1,\n 'Eugene Scalia': 2,\n 'Gurindar Sohi': 1,\n 'Madison': 1,\n 'Ken Feinberg': 1,\n 'Clifford Tyson': 1,\n 'Tyson': 5,\n 'Ron DeSantis': 1,\n 'Daniel Smith': 1,\n 'Leah Aden': 1,\n 'Maria Matthews': 1,\n 'Matthews': 1,\n 'Toshia Brown': 1,\n 'Brown': 1,\n 'Pastor Clifford Tyson': 1,\n 'Brian SnyderAn': 1,\n 'Christopher Moore': 1,\n 'Sarah Revell': 1,\n 'J.C. Martin': 1,\n 'Jim Crow': 1,\n 'Julie Ebenstein': 1,\n 'Jamie Grant': 1,\n 'Larry Culp': 1,\n 'Nicholas Heymann': 1,\n 'Kevin Cox': 1,\n 'EBITDA': 1,\n 'Victor Marrero': 1,\n 'Cyrus Vance': 1,\n 'Yuri Gripas': 1,\n 'Stephanie Clifford': 1,\n 'Karen McDougal': 1,\n 'Michael Cohen': 1,\n 'Jay Sekulow': 2,\n 'Danny Frost': 1,\n 'Mike Blake/File': 1,\n 'Chaz Bickers': 1,\n 'Jon Weaks': 1,\n 'Gary Kelly': 1,\n 'Ramos': 1,\n 'Silao': 1,\n 'Saddam Hussein': 1,\n 'Wissm al-Okili‘DOWNFALL': 1,\n 'Barham Salih': 1,\n 'Saddam': 1,\n 'Ayatollah Ali Khamenei': 1,\n 'Harris': 19,\n 'Deidre DeJear': 1,\n 'Rohini Kosoglu': 1,\n 'Kurt Meyer': 1,\n 'Dvorsky': 2,\n 'DeJear': 1,\n 'Obama': 2,\n 'Jeff Link': 1,\n 'George Kent': 1,\n 'Counselor T. Ulrich': 1,\n 'RESIGNATION Volker': 1,\n 'Chuck Grassley': 1,\n 'Yana Paskova“This': 1,\n 'Grassley': 1,\n 'Shawn Cruz': 2,\n 'Rick Meckler': 1,\n 'Simon Dawson': 1,\n 'Cruz': 3,\n 'Market Cap - tmsnrt.rs/2EmTD6j': 1,\n 'XAU=': 1,\n 'Joseph Maguire': 3,\n 'Chris Van Hollen': 1,\n 'Mauricio Macri': 2,\n 'Juliana Awada': 1,\n 'Buenos Aires': 1,\n 'Agustin Marcarian': 1,\n 'Macri': 4,\n 'Alberto Fernandez': 1,\n 'Cristina Fernandez de Kirchner': 1,\n 'Nestor Kirchner': 1,\n 'Fernandez de Kirchner': 1,\n 'Alberto Fernandez’s': 1,\n 'Child Benefit': 1,\n 'Netflix Inc': 1,\n 'Anders Olsson': 1,\n 'Janerik Henriksson': 1,\n 'Lars Heikensten': 1,\n 'Anne Carson': 1,\n 'Guadeloupe': 1,\n 'REFORMS': 1,\n 'Katarina Frostenson': 1,\n 'Ingrid Elam': 1,\n 'Special Counsel': 2,\n 'Tom BrennerMueller': 1,\n 'James Quarles': 1,\n 'Aaron Zebley': 1,\n 'J. Edgar Hoover': 1,\n 'Brad Parscale': 1,\n 'Brian SnyderThe': 1,\n 'Leah Millis/File PhotoZuckerberg': 1,\n 'Ozturk': 2,\n 'Sabahat Ozturk': 1,\n 'Kerem Ozturk': 1,\n 'Seljuk Turks': 1,\n 'Yeni Hasankeyf - or': 1,\n 'Parks': 1,\n 'Yeni Hasankeyf': 4,\n 'Ahmet Akdeniz - or': 1,\n 'Shepherd': 1,\n 'Akdeniz': 1,\n 'Cemil Yavanas': 1,\n 'Mehmet Selim Acar': 1,\n 'Acar': 1,\n 'Batman': 1,\n 'Thomas': 4,\n 'Ruth Bader Ginsburg': 1,\n 'Kahler': 2,\n 'Alito': 1,\n 'Evangelisto Ramos': 1,\n 'Crowds': 1,\n 'Mary F. CalvertThe': 1,\n 'William “Billy”': 1,\n 'Carl Icahn': 1,\n 'Phil Mickelson': 1,\n 'Vilnius': 2,\n 'Timothy Cruz': 1,\n 'Zaccardi': 1,\n 'Forbes': 1,\n 'LeBron James': 1,\n 'Hogan Gidley': 1,\n 'Verwandte ThemenU.S.': 1,\n 'Andrew Bakaj': 2,\n 'Law': 1,\n 'Erin': 1,\n 'Nicholas Valentino': 1,\n 'Valentino': 1,\n 'Hoffman': 1,\n 'Josep Borrell': 1,\n 'Federica Mogherini': 1,\n 'Ursula von der': 1,\n 'Leyen': 1,\n 'Jail': 1,\n 'Grassroots': 1,\n 'Albert Gonzalez': 1,\n 'Catalan head': 1,\n 'Quim Torra': 1,\n 'Sant Antoni': 1,\n 'Joan Esculies': 1,\n 'Mac Thornberry': 1,\n 'Thornberry': 5,\n 'Mike Conaway': 1,\n 'Will Hurd': 1,\n 'IG': 1,\n 'Julian Castro': 1,\n 'D-CA': 2,\n 'Castro': 2,\n 'Kevin LamarqueNow': 1,\n 'Ross Garber': 1,\n 'Verwandte ThemenTrump': 1,\n 'Yuriy Lutsenko': 1,\n 'Paul Manafort': 1,\n 'Bob Menendez': 1,\n 'Click': 1,\n 'Lisa Hanna': 1,\n 'Helane Becker': 1,\n 'Jose Caiado': 1,\n 'A220s': 1,\n 'Derek Dombrowski': 1,\n 'A350s': 1,\n 'Fabian Bimmer': 1,\n 'Susan Donofrio': 1,\n 'Jennifer Arcuri': 1,\n 'Voltaire': 1,\n 'William Shakespeare': 1,\n 'Boris': 1,\n '\\xa0Johnson': 1,\n 'John McDonnell': 1,\n 'Arcuri': 1,\n 'Alexander — as': 1,\n 'Noel Quinn': 1,\n 'Quinn': 1,\n 'John Flint': 1,\n 'Mark Tucker': 1,\n 'Lim Huey Teng': 1,\n 'Stuart Gulliver': 1,\n 'Tsai': 6,\n 'Daryl Morey’s': 1,\n 'JOE BIDEN': 1,\n 'Petro Poroshenko': 1,\n 'BIDEN Biden’s': 1,\n 'Burisma': 1,\n 'Ruslan Ryaboshapka': 1,\n 'WILLIAM BARR': 1,\n 'Yuri GripasBut': 1,\n 'Special Counsel Robert Mueller’s': 1,\n 'MIKE': 1,\n 'United States’': 1,\n 'KURT VOLKER': 1,\n 'Bill Taylor': 1,\n 'MASHA': 1,\n 'MICHAEL': 1,\n 'Mitt': 2,\n 'Putin': 2,\n 'Mark Zaid': 1,\n 'Zaid': 2,\n 'Maguire': 1,\n 'Stephen Miller': 1,\n 'Miller': 2,\n 'Tom Bossert': 1,\n 'Bossert': 3,\n 'Al DragoGiuliani': 1,\n 'Tom Brenner': 1,\n 'William Consovoy': 1,\n 'Jonathan Turley': 1,\n 'Jack Sharman': 1,\n 'Robert Ray': 1,\n 'Ken Starr': 1,\n 'Ray': 3,\n 'Vance\\xa0Jr.': 1,\n 'Ketanji Brown Jackson': 1,\n 'Lawyer Mark Zaid': 1,\n '” Andrew Bakaj': 1,\n 'Susan Collins': 2,\n 'Roy Blunt': 1,\n 'Verwandte ThemenPompeo': 1,\n 'Andrew Bates': 1,\n 'Collins': 1,\n 'Verwandte ThemenGiuliani': 1,\n 'Mike Segar': 1}"
     },
     "metadata": {},
     "output_type": "execute_result",
     "execution_count": 10
    }
   ],
   "source": [
    "personenliste"
   ]
  },
  {
   "cell_type": "markdown",
   "metadata": {},
   "source": [
    "## Save countlist"
   ]
  },
  {
   "cell_type": "code",
   "execution_count": 11,
   "metadata": {
    "pycharm": {
     "is_executing": false
    }
   },
   "outputs": [],
   "source": [
    "import json\n",
    "json = json.dumps(personenliste)\n",
    "f = open(\"./data/personenliste_en.json\",\"w\")\n",
    "f.write(json)\n",
    "f.close()"
   ]
  },
  {
   "cell_type": "markdown",
   "metadata": {},
   "source": [
    "## Clean list"
   ]
  },
  {
   "cell_type": "code",
   "execution_count": 12,
   "metadata": {
    "pycharm": {
     "is_executing": false
    }
   },
   "outputs": [],
   "source": [
    "def cleandict_en(inputdict):\n",
    "    \n",
    "    dict2 = inputdict.copy()\n",
    "    for key in inputdict.keys(): \n",
    "        if key.startswith(\"\\\\\"):\n",
    "            del dict2[key]\n",
    "        if key.strip() == \"\":\n",
    "            del dict2[key]\n",
    "        if key.strip() == \"Verwandte ThemenFactbox\":\n",
    "            del dict2[key]\n",
    "        if key.strip() == \"Sgt\":\n",
    "            del dict2[key]\n",
    "        \n",
    "    return dict2"
   ]
  },
  {
   "cell_type": "code",
   "execution_count": 13,
   "metadata": {
    "pycharm": {
     "is_executing": false
    }
   },
   "outputs": [],
   "source": [
    "personenclean = cleandict_en(personenliste)"
   ]
  },
  {
   "cell_type": "markdown",
   "metadata": {},
   "source": [
    "## Map personnames together (i.e. \"Donald Trump\" and \"Trump\")"
   ]
  },
  {
   "cell_type": "code",
   "execution_count": 14,
   "metadata": {
    "pycharm": {
     "is_executing": false
    }
   },
   "outputs": [],
   "source": [
    "def listekompakt(inputdict):\n",
    "    outputdict = {}\n",
    "\n",
    "    for name, num in inputdict.items():\n",
    "        for key in inputdict.keys():            \n",
    "            if (name == key):\n",
    "                continue\n",
    "            if (name in key) and (inputdict[name] > 5):\n",
    "                inputdict[name] += num\n",
    "                inputdict[key] = 0\n",
    "                break\n",
    "    for name, num  in inputdict.items():\n",
    "        if num > 0:\n",
    "            outputdict[name] = num\n",
    "    return outputdict"
   ]
  },
  {
   "cell_type": "code",
   "execution_count": 15,
   "metadata": {
    "pycharm": {
     "is_executing": false
    }
   },
   "outputs": [],
   "source": [
    "personenkompakt = listekompakt(personenclean)"
   ]
  },
  {
   "cell_type": "code",
   "execution_count": 16,
   "metadata": {
    "pycharm": {
     "is_executing": false
    }
   },
   "outputs": [],
   "source": [
    "import json\n",
    "json = json.dumps(personenkompakt)\n",
    "f = open(\"./data/personenliste_en_clean.json\",\"w\")\n",
    "f.write(json)\n",
    "f.close()"
   ]
  },
  {
   "cell_type": "markdown",
   "metadata": {},
   "source": [
    "## Barchart of sortet counts"
   ]
  },
  {
   "cell_type": "code",
   "execution_count": 37,
   "metadata": {
    "pycharm": {
     "is_executing": false
    }
   },
   "outputs": [
    {
     "data": {
      "text/plain": "<Figure size 432x288 with 1 Axes>",
      "image/png": "[encoded data removed]"
     },
     "metadata": {
      "needs_background": "light"
     },
     "output_type": "display_data"
    }
   ],
   "source": [
    "personen = sorted(personenkompakt.items(), key=itemgetter(1),reverse=True)\n",
    "\n",
    "names = list(zip(*personen))[0][0:40]\n",
    "values = list(zip(*personen))[1][0:40]\n",
    "x_pos = np.arange(len(names)) \n",
    "\n",
    "plt.xticks(rotation='vertical')\n",
    "plt.subplots_adjust(bottom=0.2)\n",
    "plt.bar(x_pos, values)\n",
    "plt.xticks(x_pos, names) \n",
    "plt.suptitle('Persons in the News')\n",
    "plt.savefig('./images/hauefigkeit_news_en.png', dpi=300)\n",
    "plt.show()"
   ]
  },
  {
   "cell_type": "markdown",
   "metadata": {},
   "source": [
    "## Build list of counts per day"
   ]
  },
  {
   "cell_type": "code",
   "execution_count": 18,
   "metadata": {
    "pycharm": {
     "is_executing": false
    }
   },
   "outputs": [],
   "source": [
    "datumliste={}\n",
    "\n",
    "for i in range(0, len(df)):\n",
    "    body = df.iloc[i]['Body']\n",
    "    titel = df.iloc[i]['Titel']\n",
    "    datum = df.iloc[i]['Datum']\n",
    "    datum = datum.split(\" \")[0]\n",
    "    doc = doc = nlp(titel + \"\\n\" + body)\n",
    "    for ent in doc.ents:\n",
    "        if ent.label_ == 'PERSON':\n",
    "            if ent.text in datumliste:\n",
    "                if datum in datumliste[ent.text]:\n",
    "                    datumliste[ent.text][datum] += 1\n",
    "                else:\n",
    "                    datumliste[ent.text][datum] = 1\n",
    "            else:\n",
    "                datumliste[ent.text] = {}\n",
    "                datumliste[ent.text][datum] = 1"
   ]
  },
  {
   "cell_type": "code",
   "execution_count": 19,
   "metadata": {
    "pycharm": {
     "is_executing": false
    }
   },
   "outputs": [
    {
     "data": {
      "text/plain": "{'Daryl Morey': {'2019-10-08': 6,\n  '2019-10-09': 3,\n  '2019-10-07': 5,\n  '2019-10-06': 2},\n 'Adam Silver': {'2019-10-08': 5, '2019-10-09': 4, '2019-10-06': 1},\n 'Tingshu WangSilver': {'2019-10-08': 1},\n 'James Harden': {'2019-10-08': 2, '2019-10-07': 1},\n 'Mike D’Antoni': {'2019-10-08': 1},\n 'Raptors': {'2019-10-08': 1},\n 'Jason LeeIn': {'2019-10-08': 1},\n 'Mitch McConnell': {'2019-10-08': 3,\n  '2019-10-09': 1,\n  '2019-10-07': 2,\n  '2019-10-06': 1,\n  '2019-09-30': 1},\n 'Verwandte ThemenChina': {'2019-10-09': 1, '2019-10-06': 1, '2019-10-08': 2},\n 'Saitama': {'2019-10-09': 1},\n 'Tencent': {'2019-10-09': 2},\n 'WeChat': {'2019-10-09': 1, '2019-10-07': 1},\n 'Yao Ming': {'2019-10-09': 1, '2019-10-07': 2, '2019-10-06': 1},\n 'Bobby Yip': {'2019-10-09': 1, '2019-10-08': 1},\n 'Ted Cruz': {'2019-10-07': 3, '2019-10-06': 1},\n 'Joshua RobertsHere': {'2019-10-07': 1},\n 'Rick Scott': {'2019-10-07': 1},\n 'Ben Sasse': {'2019-10-07': 1, '2019-10-06': 2},\n 'Daryl': {'2019-10-07': 2},\n '” - Joseph Tsai': {'2019-10-07': 1},\n 'Tom Malinowski': {'2019-10-07': 2},\n '” - Julian Castro': {'2019-10-07': 1},\n 'Hu Xijin': {'2019-10-07': 1, '2019-10-06': 1},\n 'Josh Hawley': {'2019-10-07': 2},\n 'Li-Ning': {'2019-10-07': 1, '2019-10-06': 1},\n 'Marco Rubio': {'2019-10-07': 1, '2019-10-08': 1},\n 'Chuck Schumer': {'2019-10-07': 1, '2019-10-06': 1},\n 'Yao': {'2019-10-07': 2, '2019-10-06': 2},\n 'Rick Welts': {'2019-10-07': 1},\n 'Jonathan Oatis': {'2019-10-07': 1},\n 'Klay Thompson': {'2019-10-08': 2},\n 'Gordon Hayward': {'2019-10-08': 1},\n 'Verwandte ThemenChina row': {'2019-10-08': 1},\n 'Joseph Tsai': {'2019-10-08': 1, '2019-10-06': 1, '2019-10-07': 2},\n 'Geng Shuang': {'2019-10-08': 2},\n 'Geng': {'2019-10-08': 2},\n 'Houston Rockets - Pre': {'2019-10-08': 1},\n 'Thomas PeterSeveral Chinese': {'2019-10-08': 1},\n 'Evan Li': {'2019-10-08': 1},\n 'Donald Trump': {'2019-10-06': 5,\n  '2019-10-08': 40,\n  '2019-10-09': 4,\n  '2019-10-07': 30,\n  '2019-10-04': 8,\n  '2019-10-05': 5,\n  '2019-10-03': 7,\n  '2019-10-02': 13,\n  '2019-10-01': 4,\n  '2019-09-30': 6,\n  '2019-09-29': 6},\n 'REPAIR’ Morey’s': {'2019-10-06': 1},\n 'Mark Tatum': {'2019-10-06': 1, '2019-10-07': 1},\n 'Tingshu': {'2019-10-06': 1},\n 'Zara': {'2019-10-06': 1},\n 'ITX.MC': {'2019-10-06': 1},\n 'Nick Stansbury': {'2019-10-09': 1},\n 'Bob Dudley': {'2019-10-09': 1},\n 'Brian Gilvary': {'2019-10-09': 1},\n '” Francis Condon': {'2019-10-09': 1},\n 'Condon': {'2019-10-09': 1},\n 'Vigeo Eiris': {'2019-10-09': 1},\n 'Carbon Delta': {'2019-10-09': 1},\n 'Engaged Tracking': {'2019-10-09': 2},\n 'Scope': {'2019-10-09': 4},\n 'Scope 1': {'2019-10-09': 1},\n 'Scope 3': {'2019-10-09': 1},\n 'Constantine Pretenteris': {'2019-10-09': 1},\n 'Ben van Beurden': {'2019-10-09': 1},\n 'Mark Lewis': {'2019-10-09': 1},\n 'Lewis': {'2019-10-09': 1},\n '\\nMontgomery': {'2019-10-09': 1},\n 'Steven Reed': {'2019-10-09': 1},\n 'David Woods': {'2019-10-09': 1},\n 'Reed': {'2019-10-09': 1},\n 'Rosa Parks': {'2019-10-09': 1},\n 'Martin Luther King': {'2019-10-09': 1},\n 'Jr.': {'2019-10-09': 1},\n 'Joe Biden': {'2019-10-08': 11,\n  '2019-10-09': 1,\n  '2019-10-07': 7,\n  '2019-10-06': 3,\n  '2019-10-04': 6,\n  '2019-10-05': 4,\n  '2019-10-03': 9,\n  '2019-10-02': 9,\n  '2019-10-01': 2,\n  '2019-09-30': 4,\n  '2019-09-29': 4},\n 'Biden': {'2019-10-08': 18,\n  '2019-10-09': 1,\n  '2019-10-07': 4,\n  '2019-10-06': 6,\n  '2019-10-04': 14,\n  '2019-10-05': 5,\n  '2019-10-03': 15,\n  '2019-10-02': 13,\n  '2019-10-01': 3,\n  '2019-09-30': 3,\n  '2019-09-29': 5},\n 'Elizabeth Warren': {'2019-10-08': 2,\n  '2019-10-07': 2,\n  '2019-10-02': 5,\n  '2019-10-01': 2},\n 'Bernie Sanders': {'2019-10-08': 1,\n  '2019-10-07': 3,\n  '2019-10-03': 1,\n  '2019-10-02': 7,\n  '2019-10-01': 3},\n 'Volodymyr Zelenskiy': {'2019-10-08': 6,\n  '2019-10-07': 3,\n  '2019-10-04': 2,\n  '2019-10-05': 4,\n  '2019-10-03': 1,\n  '2019-10-02': 3,\n  '2019-10-01': 1,\n  '2019-09-30': 2,\n  '2019-09-29': 4,\n  '2019-10-06': 1},\n 'Trump': {'2019-10-08': 19,\n  '2019-10-09': 4,\n  '2019-10-07': 8,\n  '2019-10-04': 10,\n  '2019-10-05': 7,\n  '2019-10-03': 1,\n  '2019-10-02': 6,\n  '2019-10-01': 1,\n  '2019-09-30': 8,\n  '2019-09-29': 10,\n  '2019-10-06': 4},\n 'Elaine Kamarck': {'2019-10-08': 1},\n 'Nancy Pelosi': {'2019-10-08': 4,\n  '2019-10-09': 2,\n  '2019-10-07': 2,\n  '2019-10-04': 3,\n  '2019-10-02': 2,\n  '2019-10-06': 2,\n  '2019-09-30': 1,\n  '2019-09-29': 3},\n 'Pelosi': {'2019-10-08': 1,\n  '2019-10-09': 2,\n  '2019-10-04': 1,\n  '2019-10-02': 1,\n  '2019-09-29': 5},\n 'Moneque Jarmon': {'2019-10-08': 1},\n 'Kevin Lamarque“The': {'2019-10-08': 1},\n 'Jarmon': {'2019-10-08': 1},\n 'Pat Cipolline': {'2019-10-09': 1},\n 'Marie Yovanovitch': {'2019-10-09': 1,\n  '2019-10-08': 1,\n  '2019-10-06': 2,\n  '2019-10-02': 2,\n  '2019-10-01': 1,\n  '2019-09-30': 1},\n 'Andrew Jackson': {'2019-10-09': 1},\n 'Edwin Meese': {'2019-10-09': 1, '2019-10-08': 1},\n 'RELATIONS RAW Relations': {'2019-10-09': 1},\n 'Hunter Biden': {'2019-10-09': 1,\n  '2019-10-08': 3,\n  '2019-10-07': 2,\n  '2019-10-06': 3,\n  '2019-10-04': 2,\n  '2019-10-03': 7,\n  '2019-10-02': 2,\n  '2019-10-01': 1,\n  '2019-09-29': 1,\n  '2019-10-05': 1},\n 'Bidens': {'2019-10-09': 1,\n  '2019-10-08': 3,\n  '2019-10-07': 1,\n  '2019-10-06': 2,\n  '2019-10-03': 4,\n  '2019-09-29': 2},\n 'PM Johnson': {'2019-10-08': 2},\n 'Angela Merkel': {'2019-10-08': 8, '2019-10-09': 1, '2019-10-07': 1},\n 'Johnson': {'2019-10-08': 23,\n  '2019-10-09': 3,\n  '2019-10-07': 11,\n  '2019-10-06': 9},\n 'Merkel': {'2019-10-08': 2},\n 'Norbert Roettgen': {'2019-10-08': 1},\n 'Verwandte ThemenVery': {'2019-10-08': 1},\n 'Boris Johnson': {'2019-10-08': 20,\n  '2019-10-09': 1,\n  '2019-10-07': 7,\n  '2019-10-06': 1},\n 'Tusk': {'2019-10-08': 4},\n 'David Sassoli': {'2019-10-08': 4},\n 'Michel': {'2019-10-08': 1},\n 'Sassoli': {'2019-10-08': 4},\n 'Leo Varadkar': {'2019-10-08': 2},\n 'Aaron Chown': {'2019-10-08': 1},\n 'GAME': {'2019-10-08': 1},\n 'David Frost': {'2019-10-08': 3},\n 'Arlene Foster': {'2019-10-08': 1},\n 'Thomas Peter/File': {'2019-10-09': 1},\n 'Jerome Powell': {'2019-10-09': 1, '2019-10-08': 3},\n 'Kiyoshi Ishigane': {'2019-10-09': 1},\n '002475.SZ': {'2019-10-09': 1},\n 'Uighur Muslims': {'2019-10-09': 1, '2019-10-08': 1},\n 'Bloomberg': {'2019-10-09': 1, '2019-10-08': 2},\n 'D3': {'2019-10-09': 1},\n 'Powell': {'2019-10-09': 2, '2019-10-08': 4},\n 'Erin Scott': {'2019-10-08': 1},\n 'Pat Cipollone': {'2019-10-08': 2},\n 'Andrew Johnson': {'2019-10-08': 2},\n 'Richard Nixon': {'2019-10-08': 2, '2019-10-07': 1, '2019-09-29': 1},\n 'Bill Clinton': {'2019-10-08': 4,\n  '2019-10-02': 1,\n  '2019-10-07': 1,\n  '2019-09-29': 1},\n 'Michael Avenatti': {'2019-10-08': 3},\n 'Brendan McDermidU.S. District': {'2019-10-08': 1},\n 'Deborah Batts': {'2019-10-08': 1},\n 'Daniels': {'2019-10-08': 4},\n 'Dean Steward': {'2019-10-08': 1},\n 'Brendan Pierson': {'2019-10-08': 2},\n 'Nicolas Maduro': {'2019-10-08': 1},\n 'Santana de Parnaiba': {'2019-10-08': 1},\n 'Paulo WhitakerPresident': {'2019-10-08': 1},\n 'Robert Menendez': {'2019-10-08': 1},\n 'Steven Mnuchin': {'2019-10-08': 3, '2019-10-07': 3},\n 'Mnuchin': {'2019-10-08': 1},\n 'Diosdado Cabello': {'2019-10-08': 1},\n 'Joesley': {'2019-10-08': 1},\n 'Nicky Morgan': {'2019-10-09': 1},\n 'Julian Smith': {'2019-10-09': 1},\n 'Robert Buckland': {'2019-10-09': 1},\n 'Matt Hancock': {'2019-10-09': 1},\n 'Geoffrey Cox': {'2019-10-09': 1},\n 'Tamar Sarkissian': {'2019-10-08': 1},\n 'Steve Gorman': {'2019-10-08': 1},\n 'Jim Christie': {'2019-10-08': 1},\n 'Bowling Green': {'2019-10-08': 1},\n 'Bryan Woolston': {'2019-10-08': 1},\n 'Terry Dittes': {'2019-10-08': 1},\n 'Adel Abdul Mahdi': {'2019-10-08': 2, '2019-10-09': 1, '2019-10-07': 1},\n 'Abdul Madhi': {'2019-10-08': 1},\n 'Mike Pompeo': {'2019-10-08': 4,\n  '2019-10-09': 1,\n  '2019-10-07': 3,\n  '2019-10-05': 4,\n  '2019-10-03': 1,\n  '2019-10-02': 3,\n  '2019-10-01': 2,\n  '2019-09-30': 1,\n  '2019-09-29': 1,\n  '2019-10-06': 1},\n 'Abdul Mahdi': {'2019-10-08': 1, '2019-10-09': 2, '2019-10-07': 2},\n 'Verwandte ThemenRescue': {'2019-10-08': 1},\n 'Barr': {'2019-10-08': 7, '2019-10-02': 7, '2019-09-30': 7, '2019-10-04': 6},\n 'William Barr': {'2019-10-08': 3,\n  '2019-10-07': 2,\n  '2019-10-02': 4,\n  '2019-10-01': 1,\n  '2019-09-30': 2,\n  '2019-10-04': 1,\n  '2019-09-29': 1},\n 'Robert Mueller': {'2019-10-08': 2,\n  '2019-10-01': 3,\n  '2019-09-30': 1,\n  '2019-09-29': 1},\n 'John Durham': {'2019-10-08': 1, '2019-10-02': 1, '2019-09-30': 1},\n 'Durham': {'2019-10-08': 5, '2019-10-02': 1, '2019-09-30': 4},\n 'George Papadopoulos': {'2019-10-08': 1, '2019-10-02': 1},\n 'Hillary Clinton': {'2019-10-08': 2, '2019-10-02': 3},\n 'Carter Page': {'2019-10-08': 2},\n 'Papadopoulos': {'2019-10-08': 2, '2019-10-02': 1},\n 'Page': {'2019-10-08': 2},\n 'THE FOCUS OF THE INVESTIGATION?': {'2019-10-08': 1},\n 'Joseph Mifsud': {'2019-10-08': 1, '2019-10-02': 1},\n 'Clinton': {'2019-10-08': 7, '2019-10-02': 4, '2019-09-29': 1},\n 'Matteo Renzi': {'2019-10-08': 1},\n 'Renzi': {'2019-10-08': 1},\n 'Leah MillisBarr': {'2019-10-08': 1},\n 'James A. Baker': {'2019-10-08': 1},\n 'John Brennan': {'2019-10-08': 1},\n 'Peter Strzok': {'2019-10-08': 1},\n 'David Laufman': {'2019-10-08': 1},\n 'Shawn Turner': {'2019-10-08': 1},\n 'Clapper': {'2019-10-08': 1},\n 'Christopher Steele': {'2019-10-08': 1},\n 'Michael Horowitz': {'2019-10-08': 1},\n 'Jeff Sessions': {'2019-10-08': 1},\n 'John Huber': {'2019-10-08': 1},\n 'Huber': {'2019-10-08': 1},\n 'Horowitz': {'2019-10-08': 1},\n 'J&J': {'2019-10-08': 1},\n 'Nicholas Murray': {'2019-10-08': 1},\n 'Murray': {'2019-10-08': 4},\n 'Tom Kline': {'2019-10-08': 1},\n 'Jason Itkin': {'2019-10-08': 1},\n 'Janssen': {'2019-10-08': 1},\n 'Risperdal': {'2019-10-08': 2},\n 'Carl Tobias': {'2019-10-08': 1},\n 'Tobias': {'2019-10-08': 2},\n 'Nate Raymond': {'2019-10-08': 1},\n 'Bill Berkrot': {'2019-10-08': 1},\n 'Cynthia Osterman': {'2019-10-08': 1},\n 'Wealthy': {'2019-10-08': 1},\n 'Marcia Abbott': {'2019-10-08': 2},\n 'Gregory Abbott': {'2019-10-08': 1},\n 'Brian Snyder': {'2019-10-08': 1, '2019-10-02': 1},\n 'Indira Talwani': {'2019-10-08': 1},\n 'William “Rick” Singer': {'2019-10-08': 1},\n 'clients’': {'2019-10-08': 2},\n 'Felicity Huffman': {'2019-10-08': 1},\n 'Lori Loughlin': {'2019-10-08': 1},\n 'Huffman': {'2019-10-08': 1},\n 'Loughlin': {'2019-10-08': 1},\n 'Mark Riddell': {'2019-10-08': 1},\n 'Marcia Abbott’s': {'2019-10-08': 1},\n 'Chen Quanguo': {'2019-10-08': 1},\n 'Tom Cotton': {'2019-10-08': 1},\n 'Zhejiang Dahua Technology': {'2019-10-08': 1},\n 'Richard Burr': {'2019-10-08': 2},\n 'Jonathan ErnstThe': {'2019-10-08': 1, '2019-10-07': 1},\n 'Mark Warner': {'2019-10-08': 1},\n 'Burr': {'2019-10-08': 1},\n 'Rudolph Giuliani': {'2019-10-08': 2, '2019-10-07': 1, '2019-10-06': 1},\n 'Devin Nunes': {'2019-10-08': 1},\n 'Jill Stein': {'2019-10-08': 1},\n 'Lindsay Graham': {'2019-10-08': 1},\n 'Giuliani': {'2019-10-08': 8,\n  '2019-10-07': 1,\n  '2019-10-02': 15,\n  '2019-10-01': 1,\n  '2019-09-30': 3,\n  '2019-09-29': 10,\n  '2019-10-04': 7,\n  '2019-10-05': 1},\n 'Max': {'2019-10-08': 1},\n 'Lindsey Wasson': {'2019-10-08': 1},\n 'Steve Dickson': {'2019-10-08': 1},\n 'Camille Biros': {'2019-10-08': 1},\n 'Jeffrey Epstein': {'2019-10-08': 3},\n 'Jennifer Araoz': {'2019-10-08': 1},\n 'Epstein': {'2019-10-08': 16},\n 'Daniel Kaiser': {'2019-10-08': 1},\n 'Ghislaine Maxwell': {'2019-10-08': 1},\n 'Lesley Groff': {'2019-10-08': 1},\n 'Cimberly Espinosa': {'2019-10-08': 1},\n 'Rosalyn Fontanilla': {'2019-10-08': 1},\n 'Fontanilla': {'2019-10-08': 1},\n 'Robert Maxwell': {'2019-10-08': 1},\n 'Groff': {'2019-10-08': 1},\n 'Michael Bachner': {'2019-10-08': 1},\n 'Espinosa': {'2019-10-08': 1},\n 'Andrew': {'2019-10-08': 1},\n 'Gerald Bostock': {'2019-10-08': 3},\n 'Aimee Stephens': {'2019-10-08': 3},\n 'Mary F. CalvertBostock': {'2019-10-08': 2},\n 'Stephens': {'2019-10-08': 5},\n 'LaLa Zannell': {'2019-10-08': 2},\n 'Zannell': {'2019-10-08': 2},\n 'Ashlee Marie Preston': {'2019-10-08': 2},\n 'Donald Zarda': {'2019-10-08': 3},\n 'Laverne Cox': {'2019-10-08': 2},\n 'Emmy': {'2019-10-08': 2},\n 'Netflix': {'2019-10-08': 2},\n 'Sharen Sonntag': {'2019-10-08': 2},\n 'Jacob Phelps': {'2019-10-08': 2},\n 'Jesus': {'2019-10-08': 2},\n 'Mary F. CalvertMore': {'2019-10-08': 1},\n 'Preston Allen': {'2019-10-08': 2},\n 'Allen': {'2019-10-08': 2},\n 'OxyContin': {'2019-10-08': 2},\n 'George Frey': {'2019-10-08': 1},\n 'Mark Brnovich': {'2019-10-08': 1},\n 'Purdue': {'2019-10-08': 3},\n 'Robert Drain': {'2019-10-08': 1},\n 'Maura Healey': {'2019-10-08': 1},\n 'Neil Gorsuch': {'2019-10-08': 1},\n 'Verwandte ThemenFor LGBT': {'2019-10-08': 1},\n 'Sonia Sotomayor': {'2019-10-08': 1},\n 'John Roberts': {'2019-10-08': 1, '2019-10-04': 1, '2019-10-07': 2},\n 'Samuel Alito': {'2019-10-08': 1, '2019-10-07': 1},\n 'Brett Kavanaugh': {'2019-10-08': 1, '2019-10-04': 1},\n 'Clarence Thomas': {'2019-10-08': 1, '2019-10-07': 1, '2019-09-29': 1},\n 'Jonathan ErnstThe Trump': {'2019-10-08': 1},\n 'Anthony Kennedy': {'2019-10-08': 1, '2019-10-04': 1},\n 'Kavanaugh': {'2019-10-08': 1, '2019-10-04': 1},\n 'Noel Francisco': {'2019-10-08': 1},\n 'Elena Kagan': {'2019-10-08': 1},\n 'Kagan': {'2019-10-08': 1},\n 'Gordon Sondland': {'2019-10-08': 6, '2019-10-07': 1, '2019-09-29': 1},\n 'NAKED': {'2019-10-08': 1},\n 'Frank Bowman': {'2019-10-08': 1},\n 'Bowman': {'2019-10-08': 1},\n 'Jean-Claude Juncker': {'2019-10-08': 1},\n 'Jared Kushner': {'2019-10-08': 1},\n 'Francois LenoirOn': {'2019-10-08': 1},\n 'Rick Tyler': {'2019-10-08': 1},\n 'Yovanovitch': {'2019-10-08': 1, '2019-10-06': 2, '2019-10-02': 1},\n 'Jonathan Ernst': {'2019-10-08': 1, '2019-10-03': 1},\n 'Vladimir Putin': {'2019-10-08': 2, '2019-10-02': 2, '2019-09-29': 1},\n 'Gerard Araud': {'2019-10-08': 1},\n 'Emmanuel Macron': {'2019-10-08': 1, '2019-10-06': 1, '2019-10-07': 1},\n 'Araud': {'2019-10-08': 2},\n 'Malcolm Turnbull': {'2019-10-08': 1},\n 'Turnbull': {'2019-10-08': 1},\n 'Robert Mueller’s': {'2019-10-08': 1, '2019-09-30': 1, '2019-09-29': 1},\n 'Scott Morrison': {'2019-10-08': 1, '2019-09-30': 2},\n 'Jonathan Eyal': {'2019-10-08': 1},\n 'Zelenskiy': {'2019-10-08': 1, '2019-09-29': 1},\n 'Macron': {'2019-10-08': 2},\n 'Kim Darroch': {'2019-10-08': 1},\n 'Jim Bourg': {'2019-10-08': 1},\n 'Darroch': {'2019-10-08': 1},\n 'Twitter': {'2019-10-08': 5,\n  '2019-10-07': 1,\n  '2019-10-02': 1,\n  '2019-10-01': 1,\n  '2019-09-30': 1,\n  '2019-10-06': 1},\n 'Peter Westmacott': {'2019-10-08': 1},\n 'Giffords': {'2019-10-08': 1,\n  '2019-10-07': 1,\n  '2019-10-03': 1,\n  '2019-10-02': 2},\n 'Steve Marcus': {'2019-10-08': 1, '2019-10-03': 1},\n 'Pell Grants': {'2019-10-08': 1},\n 'Warren': {'2019-10-08': 1,\n  '2019-10-04': 2,\n  '2019-10-02': 3,\n  '2019-10-01': 3},\n 'Kamala Harris': {'2019-10-08': 2,\n  '2019-10-07': 1,\n  '2019-10-02': 3,\n  '2019-10-01': 2},\n 'Hunter': {'2019-10-07': 2,\n  '2019-10-08': 4,\n  '2019-10-06': 1,\n  '2019-10-03': 6,\n  '2019-10-02': 4,\n  '2019-10-01': 1,\n  '2019-09-30': 1,\n  '2019-09-29': 3,\n  '2019-10-04': 1,\n  '2019-10-05': 2},\n 'Perry': {'2019-10-07': 8},\n 'Jessica Maxwell': {'2019-10-07': 1},\n 'Masha Yovanovitch': {'2019-10-07': 1, '2019-10-06': 1},\n 'Yuri GripasSondland': {'2019-10-07': 1},\n 'John Dowd': {'2019-10-07': 1},\n 'Kim Kardashian': {'2019-10-08': 3},\n 'Greta Thunberg': {'2019-10-08': 1, '2019-10-07': 1},\n 'Yerevan': {'2019-10-08': 2},\n 'Vahram Baghdasaryan': {'2019-10-08': 1},\n 'North': {'2019-10-08': 1},\n 'Harry': {'2019-10-08': 1},\n 'Meghan': {'2019-10-08': 1},\n 'Tayyip Erdogan': {'2019-10-08': 5,\n  '2019-10-09': 1,\n  '2019-10-06': 1,\n  '2019-10-07': 2},\n 'Erdogan': {'2019-10-08': 13,\n  '2019-10-09': 1,\n  '2019-10-06': 1,\n  '2019-10-07': 2},\n 'Mark Esper': {'2019-10-08': 3, '2019-10-07': 1},\n 'Mark Milley': {'2019-10-08': 3, '2019-10-07': 1},\n 'Milley': {'2019-10-08': 2},\n \"Verwandte ThemenErdogan's\": {'2019-10-08': 1},\n 'Esper': {'2019-10-08': 1},\n 'Jonathan Hoffman': {'2019-10-08': 2, '2019-10-03': 1, '2019-10-07': 1},\n 'Antonio Guterres': {'2019-10-08': 1, '2019-10-07': 1},\n 'Tel Abyad': {'2019-10-08': 1, '2019-10-07': 1},\n 'Kobani': {'2019-10-08': 1},\n 'Artillery': {'2019-10-08': 1},\n 'Meral Aksener': {'2019-10-08': 1},\n 'Threatening Turkey’s': {'2019-10-08': 1},\n 'Mustafa Bali': {'2019-10-08': 1},\n 'Kevin LamarqueRussia': {'2019-10-08': 1},\n 'Bashar al-Assad': {'2019-10-08': 4, '2019-10-07': 2},\n 'Fahrettin Altun': {'2019-10-09': 1},\n 'Tammy Abraham': {'2019-10-08': 2},\n 'Chelsea': {'2019-10-08': 1},\n 'Pascal RossignolEngland': {'2019-10-08': 1},\n 'Abraham': {'2019-10-08': 2},\n 'Harry Kane': {'2019-10-08': 1},\n 'Gareth Southgate': {'2019-10-08': 1},\n 'Fikayo Tomori': {'2019-10-08': 1},\n 'Liu He': {'2019-10-08': 2, '2019-10-07': 4},\n 'Robert Lighthizer': {'2019-10-08': 2, '2019-10-07': 3},\n 'Kristalina Georgieva': {'2019-10-08': 2},\n 'Mark Schiefelbein': {'2019-10-08': 1},\n '” Hu Xijin': {'2019-10-08': 1},\n 'Xi Jinping': {'2019-10-08': 4, '2019-10-07': 1},\n 'G20': {'2019-10-08': 1},\n 'Kevin Lamarque': {'2019-10-08': 2},\n 'Anne Sacoolas': {'2019-10-07': 1},\n 'Harry Dunn': {'2019-10-07': 3},\n 'Verwandte': {'2019-10-07': 3, '2019-10-01': 2},\n 'Raab': {'2019-10-07': 2},\n 'Nick Adderley': {'2019-10-07': 1},\n 'Henry Nicholls': {'2019-10-07': 2},\n 'Charlotte Charles': {'2019-10-07': 1},\n 'Dominic Raab': {'2019-10-07': 1, '2019-10-08': 1},\n 'Pompeo': {'2019-10-07': 1},\n 'Volodymyr Zelensky': {'2019-10-07': 1},\n 'Lucas JacksonGold': {'2019-10-08': 1},\n 'John Zaller': {'2019-10-08': 1},\n 'Giovanni Staunovo': {'2019-10-08': 1},\n 'Keith Lerner': {'2019-10-08': 1},\n 'Willie Delwiche': {'2019-10-08': 1},\n 'Baird': {'2019-10-08': 1},\n 'Brendan': {'2019-10-08': 1},\n 'Giuliani\\n': {'2019-10-08': 1},\n 'Rudy Giuliani': {'2019-10-08': 1,\n  '2019-10-06': 1,\n  '2019-10-02': 2,\n  '2019-10-01': 1,\n  '2019-09-30': 1,\n  '2019-09-29': 3,\n  '2019-10-05': 1},\n 'Lindsey Graham': {'2019-10-08': 2,\n  '2019-10-06': 1,\n  '2019-10-07': 2,\n  '2019-09-30': 1,\n  '2019-09-29': 1},\n 'Viktor Shokin': {'2019-10-08': 1, '2019-09-29': 1},\n 'Graham': {'2019-10-08': 3, '2019-10-07': 2, '2019-09-30': 1},\n 'Cory Booker': {'2019-10-08': 1, '2019-10-02': 1, '2019-10-01': 1},\n 'Amy Klobuchar': {'2019-10-08': 1,\n  '2019-10-07': 1,\n  '2019-10-01': 1,\n  '2019-09-29': 1},\n 'Dianne Feinstein': {'2019-10-08': 1},\n 'Tom Steyer': {'2019-10-08': 1},\n 'Cory Gardner': {'2019-10-08': 1},\n 'Joni Ernst': {'2019-10-08': 1},\n 'Representatives Pete King': {'2019-10-08': 1},\n 'Brian Fitzpatrick': {'2019-10-08': 1},\n 'Kevin Mack': {'2019-10-08': 1},\n 'John Katko': {'2019-10-08': 1},\n 'Lee Zeldin': {'2019-10-08': 1},\n 'Rodney Davis': {'2019-10-08': 1},\n 'Don Bacon': {'2019-10-08': 1},\n 'Jaime Herrera Beutler': {'2019-10-08': 1},\n 'Scott Perry': {'2019-10-08': 1},\n 'Michael McCaul': {'2019-10-08': 1, '2019-10-02': 1},\n 'Chip Roy': {'2019-10-08': 1},\n 'Bill Clinton’s': {'2019-10-08': 1},\n 'Katie Vincentz': {'2019-10-08': 1},\n 'Zeldin': {'2019-10-08': 1},\n 'Laura Edelson': {'2019-10-08': 1},\n 'Jarrett Renshaw': {'2019-10-08': 1},\n 'Michel Barnier': {'2019-10-08': 2},\n 'Simon Coveney': {'2019-10-08': 3},\n 'Sassoli UK': {'2019-10-08': 1},\n '” Trey Parker': {'2019-10-08': 1},\n 'Matt Stone': {'2019-10-08': 1},\n 'Comedy Central': {'2019-10-08': 1},\n 'Youku Tudou': {'2019-10-08': 2},\n 'Comedy Central’s': {'2019-10-08': 1},\n 'Randy Marsh': {'2019-10-08': 1},\n 'Bill Burns': {'2019-10-06': 1},\n 'Burns': {'2019-10-06': 2},\n 'Described': {'2019-10-06': 1},\n 'Zelinskiy': {'2019-10-06': 1, '2019-10-04': 1},\n 'Rex Tillerson': {'2019-10-06': 1},\n 'Louise Yovanovitch': {'2019-10-06': 1},\n 'Richard Armitage': {'2019-10-06': 1},\n 'George W. Bush': {'2019-10-06': 1, '2019-10-08': 1, '2019-10-02': 1},\n 'Donald J. Trump': {'2019-10-06': 1},\n 'Buttigieg': {'2019-10-07': 4, '2019-10-01': 2},\n 'Pete Buttigieg': {'2019-10-07': 2,\n  '2019-10-02': 3,\n  '2019-10-01': 1,\n  '2019-09-29': 1},\n 'Steve MarcusButtigieg': {'2019-10-07': 1},\n '”\\xa0 ': {'2019-10-07': 1},\n 'Buckle': {'2019-10-08': 1},\n 'John Bolton': {'2019-10-08': 1},\n 'Jim Mattis': {'2019-10-08': 1},\n 'Brett McGurk': {'2019-10-08': 1},\n 'Fred Hof': {'2019-10-08': 1},\n 'Carter': {'2019-10-08': 4},\n 'Jimmy Carter': {'2019-10-08': 2},\n 'Neil HallThe': {'2019-10-08': 1},\n 'Barack Obama': {'2019-10-08': 1,\n  '2019-10-03': 4,\n  '2019-09-29': 1,\n  '2019-10-04': 1,\n  '2019-10-05': 2},\n 'Ibrahim Kalin': {'2019-10-08': 1},\n 'Fuat Oktay': {'2019-10-08': 1},\n 'Mardin Cimento': {'2019-10-08': 1},\n 'Adana Cimento': {'2019-10-08': 1},\n 'Chris Rupkey': {'2019-10-08': 1},\n 'Ryan Sweet': {'2019-10-08': 1},\n 'Tim Aeppel': {'2019-10-08': 1},\n 'Daniel Silver': {'2019-10-08': 1},\n 'James Peebles': {'2019-10-08': 2},\n 'Michel Mayor': {'2019-10-08': 2},\n 'Didier Queloz': {'2019-10-08': 2},\n 'Queloz': {'2019-10-08': 2},\n 'Martin Rees': {'2019-10-08': 1},\n 'Goran K Hansson': {'2019-10-08': 1},\n 'Mats Larsson': {'2019-10-08': 1},\n 'Ulf Danielsson': {'2019-10-08': 1},\n 'Claudio Bresciani': {'2019-10-08': 1},\n 'William Kaelin': {'2019-10-08': 1, '2019-10-07': 1},\n 'Gregg Semenza': {'2019-10-08': 1, '2019-10-07': 1},\n 'Peter Ratcliffe': {'2019-10-08': 1, '2019-10-07': 1},\n 'Alfred Nobel': {'2019-10-08': 1, '2019-10-07': 1},\n 'Albert Einstein': {'2019-10-08': 1},\n 'Marie Curie': {'2019-10-08': 1},\n 'Niels Bohr': {'2019-10-08': 1},\n 'Guglielmo Marconi': {'2019-10-08': 1},\n 'Niklas Pollard': {'2019-10-08': 1},\n 'Simon Johnson': {'2019-10-08': 1},\n 'Anna Ringstrom': {'2019-10-08': 1},\n 'Johannes Hellstrom': {'2019-10-08': 1},\n 'Johan Ahlander': {'2019-10-08': 1},\n 'Colm Fulton': {'2019-10-08': 1},\n 'Kate Kelland': {'2019-10-08': 1},\n 'Adidas': {'2019-10-08': 2},\n 'DE': {'2019-10-08': 1},\n 'Tomra': {'2019-10-08': 1},\n 'Brendan McDermid': {'2019-10-08': 1, '2019-10-07': 1},\n 'Sumana Manohar': {'2019-10-08': 1},\n 'Adidas vs Tomra': {'2019-10-08': 1},\n 'Named': {'2019-10-08': 1},\n 'Andrew Morlet': {'2019-10-08': 1},\n 'Edouard Philippe': {'2019-10-08': 1},\n 'Philippe': {'2019-10-08': 1},\n 'Shiyaa al-Bahadli': {'2019-10-08': 1},\n 'Moqtada al-Sadr': {'2019-10-08': 1, '2019-10-07': 2},\n 'Sadr': {'2019-10-08': 1},\n '” Abdul Amir al-Taiban': {'2019-10-08': 1},\n 'Toby Dodge': {'2019-10-08': 1},\n 'Falih al-Fayyadh': {'2019-10-08': 1},\n 'Donald Tusk': {'2019-10-08': 4},\n 'Adam Schiff': {'2019-10-04': 1,\n  '2019-10-08': 1,\n  '2019-10-03': 1,\n  '2019-10-02': 3,\n  '2019-10-01': 1,\n  '2019-09-30': 2,\n  '2019-09-29': 2},\n 'Stephanie Grisham': {'2019-10-04': 1, '2019-10-05': 2},\n 'Mike Pence': {'2019-10-04': 1},\n 'Schiff': {'2019-10-04': 1,\n  '2019-10-08': 1,\n  '2019-10-03': 1,\n  '2019-10-02': 7,\n  '2019-10-01': 1,\n  '2019-09-30': 4,\n  '2019-09-29': 7},\n 'Engel': {'2019-10-04': 1, '2019-10-01': 3, '2019-10-06': 1},\n 'Pence': {'2019-10-04': 3},\n 'Raja Krishnamoorthi': {'2019-10-04': 1},\n 'Krishnamoorthi': {'2019-10-04': 1},\n 'Michael Atkinson': {'2019-10-04': 1, '2019-09-30': 1},\n 'Yuri GripasThe': {'2019-10-04': 1, '2019-10-06': 1},\n 'Kurt Volker': {'2019-10-04': 1,\n  '2019-10-02': 2,\n  '2019-10-01': 1,\n  '2019-09-30': 1,\n  '2019-09-29': 1,\n  '2019-10-06': 1},\n 'Mitt Romney': {'2019-10-04': 1, '2019-10-05': 4, '2019-10-06': 1},\n '         ': {'2019-10-04': 1},\n 'Nikos Dendias': {'2019-10-05': 1},\n 'game’': {'2019-10-05': 1},\n 'Margrethe Vestager': {'2019-10-08': 1},\n 'Francois LenoirVestager': {'2019-10-08': 1},\n 'Makoto Uchida': {'2019-10-07': 1, '2019-10-08': 1},\n 'Ashwani Gupta': {'2019-10-07': 1, '2019-10-08': 1},\n 'Carlos Ghosn': {'2019-10-07': 1},\n 'Hiroto Saikawa': {'2019-10-07': 1},\n 'Masakazu Toyoda': {'2019-10-07': 1},\n 'Speedy': {'2019-10-07': 1},\n 'Uchida': {'2019-10-07': 1},\n 'Phil Noble': {'2019-10-07': 1},\n 'Jun Seki': {'2019-10-07': 1},\n 'Nissho Iwai': {'2019-10-07': 1},\n 'Chuang Chuang': {'2019-10-08': 6},\n 'Lin Hui': {'2019-10-08': 7},\n \"Chuang Chuang's\": {'2019-10-08': 1},\n 'Chuang Chuang - who': {'2019-10-08': 1},\n 'Chuang Chuang’s': {'2019-10-08': 2},\n 'Richard Prager': {'2019-10-08': 1},\n 'Lucas Jackson': {'2019-10-08': 1},\n 'Vanguard': {'2019-10-08': 7},\n 'Russell 3000': {'2019-10-08': 1},\n 'Dorothy Lund': {'2019-10-08': 1},\n 'Lund': {'2019-10-08': 2},\n 'Glenn Booraem': {'2019-10-08': 2},\n 'Michelle Edkins': {'2019-10-08': 1},\n 'Jacob Williams': {'2019-10-08': 1},\n 'Tim Brennan': {'2019-10-08': 1},\n 'Simiso Nzima': {'2019-10-08': 1},\n 'Verwandte ThemenBiggest': {'2019-10-08': 1},\n 'Jack Bogle': {'2019-10-08': 1},\n 'Bogle': {'2019-10-08': 2},\n 'Lucian Bebchuk': {'2019-10-08': 1},\n 'funds’': {'2019-10-08': 1},\n 'Ron Gilson': {'2019-10-08': 1},\n 'Geisha Williams - to': {'2019-10-08': 1},\n 'Lambertus Becht': {'2019-10-08': 1},\n 'Becht': {'2019-10-08': 2},\n 'Clovis': {'2019-10-08': 1},\n 'Rob Roy': {'2019-10-08': 1},\n 'Switch': {'2019-10-08': 1},\n 'Roy': {'2019-10-08': 2},\n 'Hunter Harrison': {'2019-10-08': 1},\n 'Harrison': {'2019-10-08': 2},\n 'John Fishwick Jr.': {'2019-10-08': 1},\n 'Coveney': {'2019-10-08': 2},\n 'Andrew KellyAt': {'2019-10-08': 1},\n 'Jaison Abel': {'2019-10-08': 1},\n 'Richard Deitz': {'2019-10-08': 1},\n 'Nick Bunker': {'2019-10-08': 1},\n 'Josh Bivens': {'2019-10-08': 1},\n 'Bivens': {'2019-10-08': 2},\n 'Kennedy': {'2019-10-04': 1},\n 'Kathaleen Pittman': {'2019-10-04': 1},\n 'Nancy Northup': {'2019-10-04': 1},\n 'Jeff Landry': {'2019-10-04': 1},\n 'Erin Schaff': {'2019-10-04': 1},\n 'Jeanne Mancini': {'2019-10-04': 1},\n 'Larry Edwards': {'2019-10-05': 1},\n 'Berry Cave': {'2019-10-05': 1},\n 'Elizabeth Warren’s': {'2019-10-04': 1},\n 'Kristen Orthman': {'2019-10-04': 1},\n 'Richard McDaniel': {'2019-10-04': 1},\n 'Gove\\n': {'2019-10-08': 1},\n 'Michael Gove': {'2019-10-08': 2},\n 'Lam': {'2019-10-08': 12},\n 'Carrie Lam': {'2019-10-08': 3},\n 'Rioters’': {'2019-10-08': 1},\n 'Kwok Yam-yung': {'2019-10-08': 1},\n 'Chris Patten': {'2019-10-08': 1, '2019-10-07': 1},\n 'Shoemaker Vans': {'2019-10-08': 1},\n 'Jason LeeGlobal': {'2019-10-08': 1},\n 'Nathan Strauss': {'2019-10-08': 1},\n 'Strauss': {'2019-10-08': 1},\n 'Naomiso': {'2019-10-08': 2},\n 'Slideshow': {'2019-10-08': 1,\n  '2019-10-03': 1,\n  '2019-10-07': 3,\n  '2019-09-29': 1,\n  '2019-10-04': 1},\n 'Hearthstone': {'2019-10-08': 1},\n 'Sergei Lavrov': {'2019-10-08': 1},\n 'Dmitry Peskov': {'2019-10-08': 1, '2019-10-07': 1},\n \"Joe Biden's\": {'2019-10-03': 1},\n 'Beau': {'2019-10-03': 1},\n 'Beau Biden': {'2019-10-03': 1},\n 'Hunter Biden’s': {'2019-10-03': 4, '2019-10-04': 1},\n 'Verwandte ThemenExplainer': {'2019-10-03': 1},\n \"Hunter Biden's\": {'2019-10-03': 1},\n 'Dad': {'2019-10-03': 1},\n 'Mom': {'2019-10-03': 1},\n 'Andrew Murrison': {'2019-10-08': 1},\n 'Murrison': {'2019-10-08': 2},\n 'Rob Berridge': {'2019-10-08': 1},\n 'Ceres': {'2019-10-08': 5},\n 'companies’': {'2019-10-08': 1},\n 'Tim Smith': {'2019-10-08': 1},\n 'Franklin Templeton': {'2019-10-08': 1},\n 'Larry Fink': {'2019-10-08': 1},\n 'Eric Henry': {'2019-10-08': 1},\n 'AB.N': {'2019-10-08': 1},\n 'Jonathan BachmanBlackrock': {'2019-10-08': 1},\n 'Charles Li': {'2019-10-08': 2},\n 'Verwandte ThemenTimeline': {'2019-10-08': 1},\n 'SLIM CHANCE': {'2019-10-08': 1},\n 'HKEK': {'2019-10-08': 1},\n 'Hao Hong': {'2019-10-08': 1},\n 'Li': {'2019-10-08': 1},\n 'Chi Man Wong': {'2019-10-08': 1},\n '\\nJulian Smith': {'2019-10-08': 1},\n 'Smith': {'2019-10-08': 1},\n '7211.T': {'2019-10-08': 1},\n 'Ocasio-Cortez': {'2019-10-04': 5},\n 'Alexandria Ocasio-Cortez': {'2019-10-04': 2},\n 'Zuckerberg': {'2019-10-04': 1, '2019-10-01': 3},\n 'Libra': {'2019-10-04': 3},\n 'Sheryl Sandberg': {'2019-10-04': 1},\n 'Mark Zuckerberg': {'2019-10-04': 1, '2019-10-01': 3},\n 'Jeffrey Bader': {'2019-10-03': 1},\n 'Wang Yi': {'2019-10-03': 1, '2019-10-01': 1},\n 'Victor Shih': {'2019-10-03': 1},\n '” Shih': {'2019-10-03': 1},\n 'Nixon': {'2019-10-03': 1, '2019-09-29': 1},\n 'Bonnie Glaser': {'2019-10-03': 1},\n 'Evan Medeiros': {'2019-10-03': 1},\n 'Jan Strupczewski': {'2019-10-08': 2},\n 'Mina Andreeva': {'2019-10-08': 1},\n 'Andreeva': {'2019-10-08': 1},\n '” Arlene Foster': {'2019-10-08': 1},\n 'Frost': {'2019-10-08': 1},\n 'Keir Starmer': {'2019-10-08': 1},\n 'Javelin': {'2019-10-03': 2, '2019-10-01': 1},\n 'Kevin': {'2019-10-03': 1},\n 'Seema Verma': {'2019-10-03': 1},\n 'Laura Kuenssberg': {'2019-10-08': 2},\n 'Merkel UK': {'2019-10-08': 1},\n 'Ankara': {'2019-10-08': 1},\n 'Babak Dehghanpisheh': {'2019-10-08': 1},\n 'Northern Irish DUP': {'2019-10-08': 1},\n 'Nigel Dodds': {'2019-10-08': 1},\n 'Bloomberg Television': {'2019-10-08': 1},\n 'Verwandte ThemenLondon': {'2019-10-07': 1},\n 'Lizzy': {'2019-10-07': 1},\n 'Christian MangPolice': {'2019-10-07': 1},\n 'Christiaan': {'2019-10-07': 1},\n 'Benjamin': {'2019-10-07': 1},\n 'Francoise Loiseau': {'2019-10-07': 1},\n 'Larry Kudlow': {'2019-10-07': 4},\n 'Zhong Shan': {'2019-10-07': 1, '2019-10-08': 1},\n 'Yi Gang': {'2019-10-07': 1, '2019-10-08': 1},\n 'Ning Jizhe': {'2019-10-07': 1, '2019-10-08': 1},\n 'Kazakhs': {'2019-10-07': 1},\n 'Aly SongMeanwhile': {'2019-10-07': 1},\n 'Jeff Mason': {'2019-10-02': 2},\n 'Verwandte ThemenBiden': {'2019-10-02': 2},\n \"me'Temperamental Trump\": {'2019-10-02': 1},\n 'Elijah Cummings': {'2019-10-02': 1},\n 'Sauli Niinisto': {'2019-10-02': 4},\n 'Special Counsel Robert Mueller': {'2019-10-02': 2, '2019-09-29': 1},\n 'Eliot Engel': {'2019-10-02': 2,\n  '2019-10-01': 1,\n  '2019-10-04': 1,\n  '2019-10-06': 1},\n 'Volker': {'2019-10-02': 2,\n  '2019-09-29': 1,\n  '2019-10-04': 3,\n  '2019-10-06': 2},\n 'Kevin Lamarque“It': {'2019-10-02': 1},\n 'Macquarie': {'2019-10-08': 1, '2019-10-04': 1},\n 'JD.O': {'2019-10-07': 1},\n 'Premier Liu': {'2019-10-08': 1},\n 'Liu': {'2019-10-08': 1},\n 'Andrew Murray': {'2019-10-07': 1},\n 'Thomas Perlmann': {'2019-10-07': 2},\n 'William G. Kaelin Jr': {'2019-10-07': 1},\n 'Peter J. Ratcliffe': {'2019-10-07': 1},\n 'Gregg L. Semenza': {'2019-10-07': 1},\n 'Pontus Lundahl': {'2019-10-07': 1},\n '\\xa0': {'2019-10-07': 4},\n 'Venki Ramakrishnan': {'2019-10-07': 1},\n 'Randall Johnson': {'2019-10-07': 1},\n 'Alexander Fleming': {'2019-10-07': 1},\n 'Karl Landsteiner': {'2019-10-07': 1},\n 'Kaelin': {'2019-10-07': 1},\n 'Perlmann': {'2019-10-07': 1},\n 'James Allison': {'2019-10-07': 1},\n 'Tasuku Honjo': {'2019-10-07': 1},\n 'Rick Perry': {'2019-10-07': 2},\n 'Andrius': {'2019-10-07': 2},\n 'PM Trudeau': {'2019-10-07': 1},\n 'Justin Trudeau': {'2019-10-07': 3},\n 'Andrew Scheer’s': {'2019-10-07': 1},\n 'Trudeau': {'2019-10-07': 12},\n 'Scheer': {'2019-10-07': 7},\n 'Andrew Scheer': {'2019-10-07': 2},\n 'Justin Tang': {'2019-10-07': 1},\n '     ': {'2019-10-06': 1},\n 'Andrew Goedl/Handout': {'2019-10-06': 1},\n 'Endless Wars': {'2019-10-06': 1},\n 'McConnell': {'2019-10-06': 1, '2019-10-07': 2, '2019-09-30': 3},\n 'Raqqa': {'2019-10-07': 1},\n 'Deir al-Zor': {'2019-10-07': 1},\n 'Ras al-Ain': {'2019-10-07': 1},\n 'Ozgur Unluhisarcikli': {'2019-10-07': 1},\n 'ASSAD': {'2019-10-07': 1},\n 'Juan Antonio': {'2019-10-02': 1},\n 'Juan Orlando Hernandez': {'2019-10-02': 3},\n 'Jason Richman': {'2019-10-02': 1},\n 'Joaquin “El Chapo” Guzman': {'2019-10-02': 1},\n 'Tony Hernandez': {'2019-10-02': 4},\n 'Omar Malone': {'2019-10-02': 1},\n 'Amilcar Hernandez': {'2019-10-02': 1},\n 'Juan Antonio Hernandez': {'2019-10-02': 1},\n 'Hernandez': {'2019-10-02': 2},\n 'Yani Rosenthal': {'2019-10-02': 1},\n 'Yankel Rosenthal': {'2019-10-02': 1},\n 'Steve MarcusNine': {'2019-10-02': 1},\n 'Booker': {'2019-10-02': 1},\n 'Beto O’Rourke': {'2019-10-02': 1},\n 'Andrew Yang': {'2019-10-02': 1},\n 'Jeff Weaver': {'2019-10-02': 1},\n 'Sanders': {'2019-10-02': 1},\n 'Verwandte ThemenFactbox': {'2019-10-02': 1},\n 'Brian SnyderCOMMON': {'2019-10-02': 1},\n 'Steven Nissen': {'2019-10-02': 1},\n 'Nissen': {'2019-10-02': 1},\n 'Bar Mitzvah': {'2019-10-07': 1},\n 'Ashraf Ghani': {'2019-10-08': 1},\n 'Abdullah Abdullah': {'2019-10-08': 1},\n 'Ghani': {'2019-10-08': 4},\n 'Colin Cookman': {'2019-10-08': 1},\n 'Petr Stepanek': {'2019-10-08': 1},\n 'Stepanek': {'2019-10-08': 1},\n 'Abdullah': {'2019-10-08': 8},\n 'Daoud Sultanzoy': {'2019-10-08': 1},\n 'Sultanzoy': {'2019-10-08': 1},\n 'Mujib Rahman Rahimi': {'2019-10-08': 1},\n 'Rahimi': {'2019-10-08': 1},\n 'no’': {'2019-10-08': 1},\n 'Zabihullah Mujahid': {'2019-10-08': 1},\n 'Hong Kongers': {'2019-10-07': 2},\n 'James': {'2019-10-07': 2},\n 'Mong Kok': {'2019-10-07': 2},\n 'Patten': {'2019-10-07': 1},\n 'RESTRICTIONS': {'2019-10-07': 1},\n 'Kevin Lamarqueranchers': {'2019-10-07': 1},\n 'Butter': {'2019-10-07': 1},\n 'Shinzo Abe': {'2019-10-07': 1},\n 'Matthew Goodman': {'2019-10-07': 1},\n 'Abe': {'2019-10-07': 2},\n 'Verwandte ThemenU.S.-': {'2019-10-07': 1},\n 'Tim Johnson': {'2019-10-07': 1},\n 'Barley': {'2019-10-07': 2},\n 'Stephen Lam': {'2019-10-07': 1},\n 'Letitia James': {'2019-10-07': 2},\n 'Jeffrey Rosen': {'2019-10-07': 1},\n 'Makan Delrahim': {'2019-10-07': 1},\n 'Doug Peterson': {'2019-10-07': 1},\n 'Ashley Moody': {'2019-10-07': 1},\n 'Josh Stein': {'2019-10-07': 1},\n 'Tom Miller': {'2019-10-07': 1},\n \"Soccer Football - Women's\": {'2019-10-07': 1},\n 'Soccer': {'2019-10-07': 2},\n 'Carlos Cordeiro': {'2019-10-07': 1},\n 'Megan Rapinoe': {'2019-10-07': 1},\n 'Alex Morgan': {'2019-10-07': 1},\n 'Nazir Ahmad': {'2019-10-07': 1},\n 'Malik': {'2019-10-07': 7},\n 'Proving': {'2019-10-07': 1},\n 'Sanjay Dhar': {'2019-10-07': 1},\n 'Haseena Malik': {'2019-10-07': 1},\n 'Agra\\xa0': {'2019-10-07': 1},\n 'Mohammed': {'2019-10-07': 1},\n 'Ronga \\xa0': {'2019-10-07': 1},\n 'Umair Ronga': {'2019-10-07': 1},\n '\\xa0Mirwaiz Umar Farooq': {'2019-10-07': 1},\n 'Erin ScottWithout': {'2019-10-02': 1},\n 'Giuseppe Conte': {'2019-10-02': 1},\n 'Gennaro Vecchione': {'2019-10-02': 1},\n 'Conte': {'2019-10-02': 2},\n 'Alexander Downer': {'2019-10-02': 1},\n 'Rudy Giuliani’s': {'2019-10-02': 1},\n 'Jon Sale': {'2019-10-02': 1, '2019-10-01': 1},\n 'Michael Stern': {'2019-10-02': 1},\n 'Steve Linick': {'2019-10-02': 1, '2019-10-01': 1},\n 'Verwandte ThemenAustralia PM': {'2019-10-02': 1},\n 'Eugene Scalia': {'2019-10-02': 1, '2019-09-30': 1},\n 'Gurindar Sohi': {'2019-10-07': 1},\n 'Madison': {'2019-10-07': 1},\n 'Ken Feinberg': {'2019-10-06': 1},\n 'Clifford Tyson': {'2019-10-07': 1},\n 'Tyson': {'2019-10-07': 5},\n 'Ron DeSantis': {'2019-10-07': 1},\n 'Daniel Smith': {'2019-10-07': 1},\n 'Leah Aden': {'2019-10-07': 1},\n 'Maria Matthews': {'2019-10-07': 1},\n 'Matthews': {'2019-10-07': 1},\n 'Toshia Brown': {'2019-10-07': 1},\n 'Brown': {'2019-10-07': 1},\n 'Pastor Clifford Tyson': {'2019-10-07': 1},\n 'Brian SnyderAn': {'2019-10-07': 1},\n 'Christopher Moore': {'2019-10-07': 1},\n 'Sarah Revell': {'2019-10-07': 1},\n 'J.C. Martin': {'2019-10-07': 1},\n 'Jim Crow': {'2019-10-07': 1},\n 'Julie Ebenstein': {'2019-10-07': 1},\n 'Jamie Grant': {'2019-10-07': 1},\n 'Larry Culp': {'2019-10-07': 1},\n 'Nicholas Heymann': {'2019-10-07': 1},\n 'Kevin Cox': {'2019-10-07': 1},\n 'EBITDA': {'2019-10-07': 1},\n 'Victor Marrero': {'2019-10-07': 1},\n 'Cyrus Vance': {'2019-10-07': 1},\n 'Yuri Gripas': {'2019-10-07': 1},\n 'Stephanie Clifford': {'2019-10-07': 1},\n 'Karen McDougal': {'2019-10-07': 1},\n 'Michael Cohen': {'2019-10-07': 1},\n 'Jay Sekulow': {'2019-10-07': 1, '2019-09-29': 1},\n 'Danny Frost': {'2019-10-07': 1},\n 'Mike Blake/File': {'2019-10-07': 1},\n 'Chaz Bickers': {'2019-10-07': 1},\n 'Jon Weaks': {'2019-10-07': 1},\n 'Gary Kelly': {'2019-10-07': 1},\n 'Ramos': {'2019-10-07': 1},\n 'Silao': {'2019-10-07': 1},\n 'Saddam Hussein': {'2019-10-07': 1},\n 'Wissm al-Okili‘DOWNFALL': {'2019-10-07': 1},\n 'Barham Salih': {'2019-10-07': 1},\n 'Saddam': {'2019-10-07': 1},\n 'Ayatollah Ali Khamenei': {'2019-10-07': 1},\n 'Harris': {'2019-10-02': 17, '2019-10-01': 2},\n 'Deidre DeJear': {'2019-10-02': 1},\n 'Rohini Kosoglu': {'2019-10-02': 1},\n 'Kurt Meyer': {'2019-10-02': 1},\n 'Dvorsky': {'2019-10-02': 2},\n 'DeJear': {'2019-10-02': 1},\n 'Obama': {'2019-10-02': 1, '2019-10-05': 1},\n 'Jeff Link': {'2019-10-02': 1},\n 'George Kent': {'2019-10-01': 1},\n 'Counselor T. Ulrich': {'2019-10-01': 1},\n 'RESIGNATION Volker': {'2019-10-01': 1},\n 'Chuck Grassley': {'2019-10-01': 1},\n 'Yana Paskova“This': {'2019-10-01': 1},\n 'Grassley': {'2019-10-01': 1},\n 'Shawn Cruz': {'2019-10-07': 2},\n 'Rick Meckler': {'2019-10-07': 1},\n 'Simon Dawson': {'2019-10-07': 1},\n 'Cruz': {'2019-10-07': 3},\n 'Market Cap - tmsnrt.rs/2EmTD6j': {'2019-10-07': 1},\n 'XAU=': {'2019-10-07': 1},\n 'Joseph Maguire': {'2019-10-07': 1, '2019-10-04': 1, '2019-09-29': 1},\n 'Chris Van Hollen': {'2019-10-07': 1},\n 'Mauricio Macri': {'2019-10-07': 2},\n 'Juliana Awada': {'2019-10-07': 1},\n 'Buenos Aires': {'2019-10-07': 1},\n 'Agustin Marcarian': {'2019-10-07': 1},\n 'Macri': {'2019-10-07': 4},\n 'Alberto Fernandez': {'2019-10-07': 1},\n 'Cristina Fernandez de Kirchner': {'2019-10-07': 1},\n 'Nestor Kirchner': {'2019-10-07': 1},\n 'Fernandez de Kirchner': {'2019-10-07': 1},\n 'Alberto Fernandez’s': {'2019-10-07': 1},\n 'Child Benefit': {'2019-10-07': 1},\n 'Netflix Inc': {'2019-10-07': 1},\n 'Anders Olsson': {'2019-10-07': 1},\n 'Janerik Henriksson': {'2019-10-07': 1},\n 'Lars Heikensten': {'2019-10-07': 1},\n 'Anne Carson': {'2019-10-07': 1},\n 'Guadeloupe': {'2019-10-07': 1},\n 'REFORMS': {'2019-10-07': 1},\n 'Katarina Frostenson': {'2019-10-07': 1},\n 'Ingrid Elam': {'2019-10-07': 1},\n 'Special Counsel': {'2019-10-01': 1, '2019-09-29': 1},\n 'Tom BrennerMueller': {'2019-10-01': 1},\n 'James Quarles': {'2019-10-01': 1},\n 'Aaron Zebley': {'2019-10-01': 1},\n 'J. Edgar Hoover': {'2019-10-01': 1},\n 'Brad Parscale': {'2019-10-01': 1},\n 'Brian SnyderThe': {'2019-10-01': 1},\n 'Leah Millis/File PhotoZuckerberg': {'2019-10-01': 1},\n 'Ozturk': {'2019-10-07': 2},\n 'Sabahat Ozturk': {'2019-10-07': 1},\n 'Kerem Ozturk': {'2019-10-07': 1},\n 'Seljuk Turks': {'2019-10-07': 1},\n 'Yeni Hasankeyf - or': {'2019-10-07': 1},\n 'Parks': {'2019-10-07': 1},\n 'Yeni Hasankeyf': {'2019-10-07': 4},\n 'Ahmet Akdeniz - or': {'2019-10-07': 1},\n 'Shepherd': {'2019-10-07': 1},\n 'Akdeniz': {'2019-10-07': 1},\n 'Cemil Yavanas': {'2019-10-07': 1},\n 'Mehmet Selim Acar': {'2019-10-07': 1},\n 'Acar': {'2019-10-07': 1},\n 'Batman': {'2019-10-07': 1},\n 'Thomas': {'2019-10-07': 4},\n 'Ruth Bader Ginsburg': {'2019-10-07': 1},\n 'Kahler': {'2019-10-07': 2},\n 'Alito': {'2019-10-07': 1},\n 'Evangelisto Ramos': {'2019-10-07': 1},\n 'Crowds': {'2019-10-07': 1},\n 'Mary F. CalvertThe': {'2019-10-07': 1},\n 'William “Billy”': {'2019-10-07': 1},\n 'Carl Icahn': {'2019-10-07': 1},\n 'Phil Mickelson': {'2019-10-07': 1},\n 'Vilnius': {'2019-10-07': 2},\n 'Timothy Cruz': {'2019-10-07': 1},\n 'Zaccardi': {'2019-10-07': 1},\n 'Forbes': {'2019-10-07': 1},\n 'LeBron James': {'2019-10-07': 1},\n 'Hogan Gidley': {'2019-09-30': 1},\n 'Verwandte ThemenU.S.': {'2019-09-30': 1},\n 'Andrew Bakaj': {'2019-09-30': 1, '2019-09-29': 1},\n 'Law': {'2019-09-30': 1},\n 'Erin': {'2019-09-30': 1},\n 'Nicholas Valentino': {'2019-09-30': 1},\n 'Valentino': {'2019-09-30': 1},\n 'Hoffman': {'2019-10-07': 1},\n 'Josep Borrell': {'2019-10-07': 1},\n 'Federica Mogherini': {'2019-10-07': 1},\n 'Ursula von der': {'2019-10-07': 1},\n 'Leyen': {'2019-10-07': 1},\n 'Jail': {'2019-10-07': 1},\n 'Grassroots': {'2019-10-07': 1},\n 'Albert Gonzalez': {'2019-10-07': 1},\n 'Catalan head': {'2019-10-07': 1},\n 'Quim Torra': {'2019-10-07': 1},\n 'Sant Antoni': {'2019-10-07': 1},\n 'Joan Esculies': {'2019-10-07': 1},\n 'Mac Thornberry': {'2019-09-30': 1},\n 'Thornberry': {'2019-09-30': 5},\n 'Mike Conaway': {'2019-09-30': 1},\n 'Will Hurd': {'2019-09-30': 1},\n 'IG': {'2019-09-29': 1},\n 'Julian Castro': {'2019-09-29': 1},\n 'D-CA': {'2019-09-29': 2},\n 'Castro': {'2019-09-29': 2},\n 'Kevin LamarqueNow': {'2019-09-29': 1},\n 'Ross Garber': {'2019-09-29': 1},\n 'Verwandte ThemenTrump': {'2019-09-29': 1},\n 'Yuriy Lutsenko': {'2019-09-29': 1},\n 'Paul Manafort': {'2019-09-29': 1},\n 'Bob Menendez': {'2019-09-29': 1},\n 'Click': {'2019-10-04': 1},\n 'Lisa Hanna': {'2019-10-04': 1},\n 'Helane Becker': {'2019-10-04': 1},\n 'Jose Caiado': {'2019-10-04': 1},\n 'A220s': {'2019-10-04': 1},\n 'Derek Dombrowski': {'2019-10-04': 1},\n 'A350s': {'2019-10-04': 1},\n 'Fabian Bimmer': {'2019-10-04': 1},\n 'Susan Donofrio': {'2019-10-04': 1},\n 'Jennifer Arcuri': {'2019-10-07': 1},\n 'Voltaire': {'2019-10-07': 1},\n 'William Shakespeare': {'2019-10-07': 1},\n 'Boris': {'2019-10-07': 1},\n '\\xa0Johnson': {'2019-10-07': 1},\n 'John McDonnell': {'2019-10-07': 1},\n 'Arcuri': {'2019-10-07': 1},\n 'Alexander — as': {'2019-10-07': 1},\n 'Noel Quinn': {'2019-10-06': 1},\n 'Quinn': {'2019-10-06': 1},\n 'John Flint': {'2019-10-06': 1},\n 'Mark Tucker': {'2019-10-06': 1},\n 'Lim Huey Teng': {'2019-10-06': 1},\n 'Stuart Gulliver': {'2019-10-06': 1},\n 'Tsai': {'2019-10-07': 6},\n 'Daryl Morey’s': {'2019-10-07': 1},\n 'JOE BIDEN': {'2019-10-04': 1},\n 'Petro Poroshenko': {'2019-10-04': 1},\n 'BIDEN Biden’s': {'2019-10-04': 1},\n 'Burisma': {'2019-10-04': 1},\n 'Ruslan Ryaboshapka': {'2019-10-04': 1},\n 'WILLIAM BARR': {'2019-10-04': 1},\n 'Yuri GripasBut': {'2019-10-04': 1},\n 'Special Counsel Robert Mueller’s': {'2019-10-04': 1},\n 'MIKE': {'2019-10-04': 1},\n 'United States’': {'2019-10-04': 1},\n 'KURT VOLKER': {'2019-10-04': 1},\n 'Bill Taylor': {'2019-10-04': 1},\n 'MASHA': {'2019-10-04': 1},\n 'MICHAEL': {'2019-10-04': 1},\n 'Mitt': {'2019-10-05': 2},\n 'Putin': {'2019-09-29': 2},\n 'Mark Zaid': {'2019-09-29': 1},\n 'Zaid': {'2019-09-29': 1, '2019-10-06': 1},\n 'Maguire': {'2019-09-29': 1},\n 'Stephen Miller': {'2019-09-29': 1},\n 'Miller': {'2019-09-29': 2},\n 'Tom Bossert': {'2019-09-29': 1},\n 'Bossert': {'2019-09-29': 3},\n 'Al DragoGiuliani': {'2019-09-29': 1},\n 'Tom Brenner': {'2019-09-29': 1},\n 'William Consovoy': {'2019-09-29': 1},\n 'Jonathan Turley': {'2019-09-29': 1},\n 'Jack Sharman': {'2019-09-29': 1},\n 'Robert Ray': {'2019-09-29': 1},\n 'Ken Starr': {'2019-09-29': 1},\n 'Ray': {'2019-09-29': 3},\n 'Vance\\xa0Jr.': {'2019-09-29': 1},\n 'Ketanji Brown Jackson': {'2019-09-28': 1},\n 'Lawyer Mark Zaid': {'2019-10-06': 1},\n '” Andrew Bakaj': {'2019-10-06': 1},\n 'Susan Collins': {'2019-10-06': 1, '2019-10-05': 1},\n 'Roy Blunt': {'2019-10-06': 1},\n 'Verwandte ThemenPompeo': {'2019-10-06': 1},\n 'Andrew Bates': {'2019-10-06': 1},\n 'Collins': {'2019-10-05': 1},\n 'Verwandte ThemenGiuliani': {'2019-10-05': 1},\n 'Mike Segar': {'2019-10-05': 1}}"
     },
     "metadata": {},
     "output_type": "execute_result",
     "execution_count": 19
    }
   ],
   "source": [
    "datumliste"
   ]
  },
  {
   "cell_type": "code",
   "execution_count": 20,
   "metadata": {
    "pycharm": {
     "is_executing": false
    }
   },
   "outputs": [],
   "source": [
    "import json\n",
    "json = json.dumps(datumliste)\n",
    "f = open(\"./data/datumliste_en.json\",\"w\")\n",
    "f.write(json)\n",
    "f.close()"
   ]
  },
  {
   "cell_type": "markdown",
   "metadata": {},
   "source": [
    "## Map personlists together (i.e. \"Donald Trump\" and \"Trump\")"
   ]
  },
  {
   "cell_type": "code",
   "execution_count": 28,
   "metadata": {
    "pycharm": {
     "is_executing": false
    }
   },
   "outputs": [],
   "source": [
    "def uniondict(dict1,dict2):\n",
    "    returndict ={}\n",
    "    \n",
    "    allkeys = list(set(list(dict1.keys()) + list(dict2.keys())))\n",
    "    allvalues = [0] * len(allkeys)\n",
    "    for i in range(len(allkeys)):\n",
    "        returndict[allkeys[i]] = allvalues[i]\n",
    "    \n",
    "    for key1, value1 in dict1.items():\n",
    "        returndict[key1] += value1\n",
    "    for key2, value2 in dict2.items():\n",
    "        returndict[key2] += value2\n",
    "                \n",
    "    return returndict"
   ]
  },
  {
   "cell_type": "code",
   "execution_count": 29,
   "metadata": {
    "pycharm": {
     "is_executing": false
    }
   },
   "outputs": [],
   "source": [
    "def datekompakt(inputdict):\n",
    "    outputdict = {}\n",
    "\n",
    "    for name, datelist in inputdict.items():\n",
    "        for key in inputdict.keys():\n",
    "            if (name == key):\n",
    "                continue\n",
    "            if (name in key) and (len(inputdict[name]) > 3):\n",
    "                inputdict[name] = uniondict(inputdict[key],datelist)\n",
    "                inputdict[key] = {}\n",
    "                break\n",
    "    for name, datelist  in inputdict.items():\n",
    "        if datelist != {}:      \n",
    "            outputdict[name] = datelist\n",
    "    return outputdict"
   ]
  },
  {
   "cell_type": "markdown",
   "metadata": {},
   "source": [
    "## Clean lists"
   ]
  },
  {
   "cell_type": "code",
   "execution_count": 30,
   "metadata": {
    "pycharm": {
     "is_executing": false
    }
   },
   "outputs": [],
   "source": [
    "datumclean= cleandict_en(datumliste)"
   ]
  },
  {
   "cell_type": "code",
   "execution_count": 31,
   "metadata": {
    "pycharm": {
     "is_executing": false
    }
   },
   "outputs": [],
   "source": [
    "datumkompakt = datekompakt(datumclean)"
   ]
  },
  {
   "cell_type": "code",
   "execution_count": 32,
   "metadata": {
    "pycharm": {
     "is_executing": false
    }
   },
   "outputs": [],
   "source": [
    "import json\n",
    "json = json.dumps(datumkompakt)\n",
    "f = open(\"./data/datumliste_en_clean.json\",\"w\")\n",
    "f.write(json)\n",
    "f.close()"
   ]
  },
  {
   "cell_type": "markdown",
   "metadata": {},
   "source": [
    "## Lineplots for persons"
   ]
  },
  {
   "cell_type": "code",
   "execution_count": 34,
   "metadata": {
    "pycharm": {
     "is_executing": false
    }
   },
   "outputs": [],
   "source": [
    "def namenplot(name1, name2, startdatum, enddatum, frequenz, savepfad):\n",
    "    dict1 = datumkompakt[name1]\n",
    "    dict2 = datumkompakt[name2]\n",
    "\n",
    "    datelist = pd.date_range(start=startdatum, end=enddatum).tolist()\n",
    "    datelist = pd.to_datetime((datelist))\n",
    "\n",
    "    y_name1 =[]\n",
    "    y_name2 =[]\n",
    "    for date in datelist:\n",
    "        if str(date).split()[0] in dict1:\n",
    "            y_name1.append(dict1[str(date).split()[0]])\n",
    "        else:\n",
    "            y_name1.append(0)\n",
    "        if str(date).split()[0] in dict2:\n",
    "            y_name2.append(dict2[str(date).split()[0]])\n",
    "        else:\n",
    "            y_name2.append(0)\n",
    "\n",
    "    tickslist = pd.date_range(start=startdatum, end=enddatum, freq=frequenz).tolist()\n",
    "\n",
    "    plt.plot(datelist, y_name1,label=name1)\n",
    "    plt.plot(datelist, y_name2,linestyle='--',label=name2)\n",
    "    max1 = max(y_name1)\n",
    "    max2 = max(y_name2)\n",
    "    plt.axis([startdatum, enddatum, 0, max([max1,max2])+3])\n",
    "\n",
    "    plt.gca().xaxis.set_major_formatter(mdates.DateFormatter('%d-%m-%Y'))\n",
    "    plt.xlabel('Date')\n",
    "    plt.xticks(tickslist)\n",
    "    plt.ylabel('Frequecy')\n",
    "    plt.suptitle('Mentions in the news ' + name1 + \" and \" + name2)\n",
    "    plt.gcf().autofmt_xdate()\n",
    "    plt.legend()\n",
    "    plt.savefig(savepfad, dpi=300)\n",
    "    plt.show()"
   ]
  },
  {
   "cell_type": "code",
   "execution_count": 27,
   "metadata": {
    "pycharm": {
     "is_executing": false
    }
   },
   "outputs": [
    {
     "data": {
      "text/plain": "<Figure size 432x288 with 1 Axes>",
      "image/png": "[encoded data removed]"
     },
     "metadata": {
      "needs_background": "light"
     },
     "output_type": "display_data"
    }
   ],
   "source": [
    "namenplot(\"Trump\", \"Obama\", startdatum, enddatum, '1D', './images/trump_obama.png')"
   ]
  }
 ],
 "metadata": {
  "kernelspec": {
   "display_name": "Python 3",
   "language": "python",
   "name": "python3"
  },
  "language_info": {
   "codemirror_mode": {
    "name": "ipython",
    "version": 3
   },
   "file_extension": ".py",
   "mimetype": "text/x-python",
   "name": "python",
   "nbconvert_exporter": "python",
   "pygments_lexer": "ipython3",
   "version": "3.6.4"
  },
  "pycharm": {
   "stem_cell": {
    "cell_type": "raw",
    "source": [],
    "metadata": {
     "collapsed": false
    }
   }
  }
 },
 "nbformat": 4,
 "nbformat_minor": 2
}